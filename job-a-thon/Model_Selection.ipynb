{
  "nbformat": 4,
  "nbformat_minor": 0,
  "metadata": {
    "colab": {
      "name": "Model Selection.ipynb",
      "provenance": [],
      "toc_visible": true,
      "authorship_tag": "ABX9TyM9U6MRit5bqGWfC4dnLbfb",
      "include_colab_link": true
    },
    "kernelspec": {
      "name": "python3",
      "display_name": "Python 3"
    }
  },
  "cells": [
    {
      "cell_type": "markdown",
      "metadata": {
        "id": "view-in-github",
        "colab_type": "text"
      },
      "source": [
        "<a href=\"https://colab.research.google.com/github/ParishaKB/Hackathons/blob/main/job-a-thon/Model_Selection.ipynb\" target=\"_parent\"><img src=\"https://colab.research.google.com/assets/colab-badge.svg\" alt=\"Open In Colab\"/></a>"
      ]
    },
    {
      "cell_type": "code",
      "metadata": {
        "colab": {
          "base_uri": "https://localhost:8080/"
        },
        "id": "f1r0cPxkl64W",
        "outputId": "944b9a29-8fb0-402a-f826-d19f8ce8d868"
      },
      "source": [
        "from google.colab import drive\r\n",
        "drive.mount('/content/drive')"
      ],
      "execution_count": 1,
      "outputs": [
        {
          "output_type": "stream",
          "text": [
            "Mounted at /content/drive\n"
          ],
          "name": "stdout"
        }
      ]
    },
    {
      "cell_type": "code",
      "metadata": {
        "id": "hlglPF5kmVn3"
      },
      "source": [
        "import pandas as pd\r\n",
        "import numpy as np\r\n",
        "import matplotlib.pyplot as plt\r\n",
        "import seaborn as sns\r\n",
        "from sklearn import preprocessing "
      ],
      "execution_count": 2,
      "outputs": []
    },
    {
      "cell_type": "code",
      "metadata": {
        "id": "rZWpoCUUmojv"
      },
      "source": [
        "train = pd.read_csv('/content/drive/MyDrive/Job-a-thon/train_Df64byy.csv')\r\n",
        "test = pd.read_csv('/content/drive/MyDrive/Job-a-thon/test_YCcRUnU.csv')"
      ],
      "execution_count": 3,
      "outputs": []
    },
    {
      "cell_type": "code",
      "metadata": {
        "colab": {
          "base_uri": "https://localhost:8080/"
        },
        "id": "DIaNxtiemx2k",
        "outputId": "69a79cd9-75aa-435d-ad26-967b7b0e90ca"
      },
      "source": [
        "print(train.shape,test.shape)"
      ],
      "execution_count": 4,
      "outputs": [
        {
          "output_type": "stream",
          "text": [
            "(50882, 14) (21805, 13)\n"
          ],
          "name": "stdout"
        }
      ]
    },
    {
      "cell_type": "markdown",
      "metadata": {
        "id": "tbdLrg1yFStG"
      },
      "source": [
        "## EDA"
      ]
    },
    {
      "cell_type": "code",
      "metadata": {
        "colab": {
          "base_uri": "https://localhost:8080/"
        },
        "id": "ZNYS5BSencb4",
        "outputId": "193c1247-339b-4771-f917-0d6517b80105"
      },
      "source": [
        "train.info()"
      ],
      "execution_count": 5,
      "outputs": [
        {
          "output_type": "stream",
          "text": [
            "<class 'pandas.core.frame.DataFrame'>\n",
            "RangeIndex: 50882 entries, 0 to 50881\n",
            "Data columns (total 14 columns):\n",
            " #   Column                   Non-Null Count  Dtype  \n",
            "---  ------                   --------------  -----  \n",
            " 0   ID                       50882 non-null  int64  \n",
            " 1   City_Code                50882 non-null  object \n",
            " 2   Region_Code              50882 non-null  int64  \n",
            " 3   Accomodation_Type        50882 non-null  object \n",
            " 4   Reco_Insurance_Type      50882 non-null  object \n",
            " 5   Upper_Age                50882 non-null  int64  \n",
            " 6   Lower_Age                50882 non-null  int64  \n",
            " 7   Is_Spouse                50882 non-null  object \n",
            " 8   Health Indicator         39191 non-null  object \n",
            " 9   Holding_Policy_Duration  30631 non-null  object \n",
            " 10  Holding_Policy_Type      30631 non-null  float64\n",
            " 11  Reco_Policy_Cat          50882 non-null  int64  \n",
            " 12  Reco_Policy_Premium      50882 non-null  float64\n",
            " 13  Response                 50882 non-null  int64  \n",
            "dtypes: float64(2), int64(6), object(6)\n",
            "memory usage: 5.4+ MB\n"
          ],
          "name": "stdout"
        }
      ]
    },
    {
      "cell_type": "code",
      "metadata": {
        "colab": {
          "base_uri": "https://localhost:8080/"
        },
        "id": "BJhcpGPYfbAm",
        "outputId": "e5eb1378-62af-4c5c-ddea-3f88fe163147"
      },
      "source": [
        "test.info()"
      ],
      "execution_count": 6,
      "outputs": [
        {
          "output_type": "stream",
          "text": [
            "<class 'pandas.core.frame.DataFrame'>\n",
            "RangeIndex: 21805 entries, 0 to 21804\n",
            "Data columns (total 13 columns):\n",
            " #   Column                   Non-Null Count  Dtype  \n",
            "---  ------                   --------------  -----  \n",
            " 0   ID                       21805 non-null  int64  \n",
            " 1   City_Code                21805 non-null  object \n",
            " 2   Region_Code              21805 non-null  int64  \n",
            " 3   Accomodation_Type        21805 non-null  object \n",
            " 4   Reco_Insurance_Type      21805 non-null  object \n",
            " 5   Upper_Age                21805 non-null  int64  \n",
            " 6   Lower_Age                21805 non-null  int64  \n",
            " 7   Is_Spouse                21805 non-null  object \n",
            " 8   Health Indicator         16778 non-null  object \n",
            " 9   Holding_Policy_Duration  13202 non-null  object \n",
            " 10  Holding_Policy_Type      13202 non-null  float64\n",
            " 11  Reco_Policy_Cat          21805 non-null  int64  \n",
            " 12  Reco_Policy_Premium      21805 non-null  float64\n",
            "dtypes: float64(2), int64(5), object(6)\n",
            "memory usage: 2.2+ MB\n"
          ],
          "name": "stdout"
        }
      ]
    },
    {
      "cell_type": "code",
      "metadata": {
        "id": "wU6nKqEZ0S1L"
      },
      "source": [
        "train['Holding_Policy_Duration'].fillna(0, inplace=True)\r\n",
        "train['Holding_Policy_Type'].fillna(0, inplace=True)\r\n",
        "test['Holding_Policy_Duration'].fillna(0, inplace=True)\r\n",
        "test['Holding_Policy_Type'].fillna(0, inplace=True)"
      ],
      "execution_count": 7,
      "outputs": []
    },
    {
      "cell_type": "code",
      "metadata": {
        "id": "JhQbsBgysAcs"
      },
      "source": [
        "train['Holding_Policy_Duration'] = train['Holding_Policy_Duration'].astype(str)\r\n",
        "test['Holding_Policy_Duration'] = test['Holding_Policy_Duration'].astype(str)"
      ],
      "execution_count": 8,
      "outputs": []
    },
    {
      "cell_type": "code",
      "metadata": {
        "id": "0Ejnj20AsAmP"
      },
      "source": [
        "bins = [2000,   6000, 10000,  14000,  18000,   22000, 26000,  30000,   34000, 38000, 42000, 46000 ]\r\n",
        "labels = ['0', '1',   '2',    '3',    '4',    '5',    '6',    '7',    '8',    '9', '10']\r\n",
        "train['prembin'] = pd.cut(train['Reco_Policy_Premium'], bins, labels = labels,include_lowest = True)\r\n",
        "test['prembin'] = pd.cut(test['Reco_Policy_Premium'], bins, labels = labels,include_lowest = True)"
      ],
      "execution_count": 9,
      "outputs": []
    },
    {
      "cell_type": "code",
      "metadata": {
        "colab": {
          "base_uri": "https://localhost:8080/",
          "height": 233
        },
        "id": "oLfvvSI9qh3y",
        "outputId": "c02329ec-2da7-4ca9-bbba-e0bfa74f736a"
      },
      "source": [
        "train.head()"
      ],
      "execution_count": 10,
      "outputs": [
        {
          "output_type": "execute_result",
          "data": {
            "text/html": [
              "<div>\n",
              "<style scoped>\n",
              "    .dataframe tbody tr th:only-of-type {\n",
              "        vertical-align: middle;\n",
              "    }\n",
              "\n",
              "    .dataframe tbody tr th {\n",
              "        vertical-align: top;\n",
              "    }\n",
              "\n",
              "    .dataframe thead th {\n",
              "        text-align: right;\n",
              "    }\n",
              "</style>\n",
              "<table border=\"1\" class=\"dataframe\">\n",
              "  <thead>\n",
              "    <tr style=\"text-align: right;\">\n",
              "      <th></th>\n",
              "      <th>ID</th>\n",
              "      <th>City_Code</th>\n",
              "      <th>Region_Code</th>\n",
              "      <th>Accomodation_Type</th>\n",
              "      <th>Reco_Insurance_Type</th>\n",
              "      <th>Upper_Age</th>\n",
              "      <th>Lower_Age</th>\n",
              "      <th>Is_Spouse</th>\n",
              "      <th>Health Indicator</th>\n",
              "      <th>Holding_Policy_Duration</th>\n",
              "      <th>Holding_Policy_Type</th>\n",
              "      <th>Reco_Policy_Cat</th>\n",
              "      <th>Reco_Policy_Premium</th>\n",
              "      <th>Response</th>\n",
              "      <th>prembin</th>\n",
              "    </tr>\n",
              "  </thead>\n",
              "  <tbody>\n",
              "    <tr>\n",
              "      <th>0</th>\n",
              "      <td>1</td>\n",
              "      <td>C3</td>\n",
              "      <td>3213</td>\n",
              "      <td>Rented</td>\n",
              "      <td>Individual</td>\n",
              "      <td>36</td>\n",
              "      <td>36</td>\n",
              "      <td>No</td>\n",
              "      <td>X1</td>\n",
              "      <td>14+</td>\n",
              "      <td>3.0</td>\n",
              "      <td>22</td>\n",
              "      <td>11628.0</td>\n",
              "      <td>0</td>\n",
              "      <td>2</td>\n",
              "    </tr>\n",
              "    <tr>\n",
              "      <th>1</th>\n",
              "      <td>2</td>\n",
              "      <td>C5</td>\n",
              "      <td>1117</td>\n",
              "      <td>Owned</td>\n",
              "      <td>Joint</td>\n",
              "      <td>75</td>\n",
              "      <td>22</td>\n",
              "      <td>No</td>\n",
              "      <td>X2</td>\n",
              "      <td>0</td>\n",
              "      <td>0.0</td>\n",
              "      <td>22</td>\n",
              "      <td>30510.0</td>\n",
              "      <td>0</td>\n",
              "      <td>7</td>\n",
              "    </tr>\n",
              "    <tr>\n",
              "      <th>2</th>\n",
              "      <td>3</td>\n",
              "      <td>C5</td>\n",
              "      <td>3732</td>\n",
              "      <td>Owned</td>\n",
              "      <td>Individual</td>\n",
              "      <td>32</td>\n",
              "      <td>32</td>\n",
              "      <td>No</td>\n",
              "      <td>NaN</td>\n",
              "      <td>1.0</td>\n",
              "      <td>1.0</td>\n",
              "      <td>19</td>\n",
              "      <td>7450.0</td>\n",
              "      <td>1</td>\n",
              "      <td>1</td>\n",
              "    </tr>\n",
              "    <tr>\n",
              "      <th>3</th>\n",
              "      <td>4</td>\n",
              "      <td>C24</td>\n",
              "      <td>4378</td>\n",
              "      <td>Owned</td>\n",
              "      <td>Joint</td>\n",
              "      <td>52</td>\n",
              "      <td>48</td>\n",
              "      <td>No</td>\n",
              "      <td>X1</td>\n",
              "      <td>14+</td>\n",
              "      <td>3.0</td>\n",
              "      <td>19</td>\n",
              "      <td>17780.0</td>\n",
              "      <td>0</td>\n",
              "      <td>3</td>\n",
              "    </tr>\n",
              "    <tr>\n",
              "      <th>4</th>\n",
              "      <td>5</td>\n",
              "      <td>C8</td>\n",
              "      <td>2190</td>\n",
              "      <td>Rented</td>\n",
              "      <td>Individual</td>\n",
              "      <td>44</td>\n",
              "      <td>44</td>\n",
              "      <td>No</td>\n",
              "      <td>X2</td>\n",
              "      <td>3.0</td>\n",
              "      <td>1.0</td>\n",
              "      <td>16</td>\n",
              "      <td>10404.0</td>\n",
              "      <td>0</td>\n",
              "      <td>2</td>\n",
              "    </tr>\n",
              "  </tbody>\n",
              "</table>\n",
              "</div>"
            ],
            "text/plain": [
              "   ID City_Code  Region_Code  ... Reco_Policy_Premium Response  prembin\n",
              "0   1        C3         3213  ...             11628.0        0        2\n",
              "1   2        C5         1117  ...             30510.0        0        7\n",
              "2   3        C5         3732  ...              7450.0        1        1\n",
              "3   4       C24         4378  ...             17780.0        0        3\n",
              "4   5        C8         2190  ...             10404.0        0        2\n",
              "\n",
              "[5 rows x 15 columns]"
            ]
          },
          "metadata": {
            "tags": []
          },
          "execution_count": 10
        }
      ]
    },
    {
      "cell_type": "code",
      "metadata": {
        "colab": {
          "base_uri": "https://localhost:8080/",
          "height": 233
        },
        "id": "gD6Ta94FqwUC",
        "outputId": "b2528c88-de97-4095-90f8-3d2443a2663a"
      },
      "source": [
        "test.head()"
      ],
      "execution_count": 11,
      "outputs": [
        {
          "output_type": "execute_result",
          "data": {
            "text/html": [
              "<div>\n",
              "<style scoped>\n",
              "    .dataframe tbody tr th:only-of-type {\n",
              "        vertical-align: middle;\n",
              "    }\n",
              "\n",
              "    .dataframe tbody tr th {\n",
              "        vertical-align: top;\n",
              "    }\n",
              "\n",
              "    .dataframe thead th {\n",
              "        text-align: right;\n",
              "    }\n",
              "</style>\n",
              "<table border=\"1\" class=\"dataframe\">\n",
              "  <thead>\n",
              "    <tr style=\"text-align: right;\">\n",
              "      <th></th>\n",
              "      <th>ID</th>\n",
              "      <th>City_Code</th>\n",
              "      <th>Region_Code</th>\n",
              "      <th>Accomodation_Type</th>\n",
              "      <th>Reco_Insurance_Type</th>\n",
              "      <th>Upper_Age</th>\n",
              "      <th>Lower_Age</th>\n",
              "      <th>Is_Spouse</th>\n",
              "      <th>Health Indicator</th>\n",
              "      <th>Holding_Policy_Duration</th>\n",
              "      <th>Holding_Policy_Type</th>\n",
              "      <th>Reco_Policy_Cat</th>\n",
              "      <th>Reco_Policy_Premium</th>\n",
              "      <th>prembin</th>\n",
              "    </tr>\n",
              "  </thead>\n",
              "  <tbody>\n",
              "    <tr>\n",
              "      <th>0</th>\n",
              "      <td>50883</td>\n",
              "      <td>C1</td>\n",
              "      <td>156</td>\n",
              "      <td>Owned</td>\n",
              "      <td>Individual</td>\n",
              "      <td>30</td>\n",
              "      <td>30</td>\n",
              "      <td>No</td>\n",
              "      <td>NaN</td>\n",
              "      <td>6.0</td>\n",
              "      <td>3.0</td>\n",
              "      <td>5</td>\n",
              "      <td>11934.0</td>\n",
              "      <td>2</td>\n",
              "    </tr>\n",
              "    <tr>\n",
              "      <th>1</th>\n",
              "      <td>50884</td>\n",
              "      <td>C4</td>\n",
              "      <td>7</td>\n",
              "      <td>Owned</td>\n",
              "      <td>Joint</td>\n",
              "      <td>69</td>\n",
              "      <td>68</td>\n",
              "      <td>Yes</td>\n",
              "      <td>X1</td>\n",
              "      <td>3.0</td>\n",
              "      <td>3.0</td>\n",
              "      <td>18</td>\n",
              "      <td>32204.8</td>\n",
              "      <td>7</td>\n",
              "    </tr>\n",
              "    <tr>\n",
              "      <th>2</th>\n",
              "      <td>50885</td>\n",
              "      <td>C1</td>\n",
              "      <td>564</td>\n",
              "      <td>Rented</td>\n",
              "      <td>Individual</td>\n",
              "      <td>28</td>\n",
              "      <td>28</td>\n",
              "      <td>No</td>\n",
              "      <td>X3</td>\n",
              "      <td>2.0</td>\n",
              "      <td>4.0</td>\n",
              "      <td>17</td>\n",
              "      <td>9240.0</td>\n",
              "      <td>1</td>\n",
              "    </tr>\n",
              "    <tr>\n",
              "      <th>3</th>\n",
              "      <td>50886</td>\n",
              "      <td>C3</td>\n",
              "      <td>1177</td>\n",
              "      <td>Rented</td>\n",
              "      <td>Individual</td>\n",
              "      <td>23</td>\n",
              "      <td>23</td>\n",
              "      <td>No</td>\n",
              "      <td>X3</td>\n",
              "      <td>3.0</td>\n",
              "      <td>3.0</td>\n",
              "      <td>18</td>\n",
              "      <td>9086.0</td>\n",
              "      <td>1</td>\n",
              "    </tr>\n",
              "    <tr>\n",
              "      <th>4</th>\n",
              "      <td>50887</td>\n",
              "      <td>C1</td>\n",
              "      <td>951</td>\n",
              "      <td>Owned</td>\n",
              "      <td>Individual</td>\n",
              "      <td>75</td>\n",
              "      <td>75</td>\n",
              "      <td>No</td>\n",
              "      <td>X3</td>\n",
              "      <td>0</td>\n",
              "      <td>0.0</td>\n",
              "      <td>5</td>\n",
              "      <td>22534.0</td>\n",
              "      <td>5</td>\n",
              "    </tr>\n",
              "  </tbody>\n",
              "</table>\n",
              "</div>"
            ],
            "text/plain": [
              "      ID City_Code  Region_Code  ... Reco_Policy_Cat Reco_Policy_Premium  prembin\n",
              "0  50883        C1          156  ...               5             11934.0        2\n",
              "1  50884        C4            7  ...              18             32204.8        7\n",
              "2  50885        C1          564  ...              17              9240.0        1\n",
              "3  50886        C3         1177  ...              18              9086.0        1\n",
              "4  50887        C1          951  ...               5             22534.0        5\n",
              "\n",
              "[5 rows x 14 columns]"
            ]
          },
          "metadata": {
            "tags": []
          },
          "execution_count": 11
        }
      ]
    },
    {
      "cell_type": "code",
      "metadata": {
        "id": "hq97kvqDpfhc",
        "colab": {
          "base_uri": "https://localhost:8080/"
        },
        "outputId": "2833df4a-3d8b-4564-e9d2-9405696ddb5c"
      },
      "source": [
        "train.info()"
      ],
      "execution_count": 12,
      "outputs": [
        {
          "output_type": "stream",
          "text": [
            "<class 'pandas.core.frame.DataFrame'>\n",
            "RangeIndex: 50882 entries, 0 to 50881\n",
            "Data columns (total 15 columns):\n",
            " #   Column                   Non-Null Count  Dtype   \n",
            "---  ------                   --------------  -----   \n",
            " 0   ID                       50882 non-null  int64   \n",
            " 1   City_Code                50882 non-null  object  \n",
            " 2   Region_Code              50882 non-null  int64   \n",
            " 3   Accomodation_Type        50882 non-null  object  \n",
            " 4   Reco_Insurance_Type      50882 non-null  object  \n",
            " 5   Upper_Age                50882 non-null  int64   \n",
            " 6   Lower_Age                50882 non-null  int64   \n",
            " 7   Is_Spouse                50882 non-null  object  \n",
            " 8   Health Indicator         39191 non-null  object  \n",
            " 9   Holding_Policy_Duration  50882 non-null  object  \n",
            " 10  Holding_Policy_Type      50882 non-null  float64 \n",
            " 11  Reco_Policy_Cat          50882 non-null  int64   \n",
            " 12  Reco_Policy_Premium      50882 non-null  float64 \n",
            " 13  Response                 50882 non-null  int64   \n",
            " 14  prembin                  50882 non-null  category\n",
            "dtypes: category(1), float64(2), int64(6), object(6)\n",
            "memory usage: 5.5+ MB\n"
          ],
          "name": "stdout"
        }
      ]
    },
    {
      "cell_type": "code",
      "metadata": {
        "colab": {
          "base_uri": "https://localhost:8080/"
        },
        "id": "HFCgYoCi-1ye",
        "outputId": "bf6ba919-9e01-4487-8811-97cc38316fbd"
      },
      "source": [
        "!pip install category_encoders"
      ],
      "execution_count": 13,
      "outputs": [
        {
          "output_type": "stream",
          "text": [
            "Collecting category_encoders\n",
            "\u001b[?25l  Downloading https://files.pythonhosted.org/packages/44/57/fcef41c248701ee62e8325026b90c432adea35555cbc870aff9cfba23727/category_encoders-2.2.2-py2.py3-none-any.whl (80kB)\n",
            "\r\u001b[K     |████                            | 10kB 19.4MB/s eta 0:00:01\r\u001b[K     |████████▏                       | 20kB 24.4MB/s eta 0:00:01\r\u001b[K     |████████████▏                   | 30kB 28.3MB/s eta 0:00:01\r\u001b[K     |████████████████▎               | 40kB 22.1MB/s eta 0:00:01\r\u001b[K     |████████████████████▎           | 51kB 19.0MB/s eta 0:00:01\r\u001b[K     |████████████████████████▍       | 61kB 17.0MB/s eta 0:00:01\r\u001b[K     |████████████████████████████▍   | 71kB 14.4MB/s eta 0:00:01\r\u001b[K     |████████████████████████████████| 81kB 5.4MB/s \n",
            "\u001b[?25hRequirement already satisfied: numpy>=1.14.0 in /usr/local/lib/python3.7/dist-packages (from category_encoders) (1.19.5)\n",
            "Requirement already satisfied: patsy>=0.5.1 in /usr/local/lib/python3.7/dist-packages (from category_encoders) (0.5.1)\n",
            "Requirement already satisfied: pandas>=0.21.1 in /usr/local/lib/python3.7/dist-packages (from category_encoders) (1.1.5)\n",
            "Requirement already satisfied: statsmodels>=0.9.0 in /usr/local/lib/python3.7/dist-packages (from category_encoders) (0.10.2)\n",
            "Requirement already satisfied: scipy>=1.0.0 in /usr/local/lib/python3.7/dist-packages (from category_encoders) (1.4.1)\n",
            "Requirement already satisfied: scikit-learn>=0.20.0 in /usr/local/lib/python3.7/dist-packages (from category_encoders) (0.22.2.post1)\n",
            "Requirement already satisfied: six in /usr/local/lib/python3.7/dist-packages (from patsy>=0.5.1->category_encoders) (1.15.0)\n",
            "Requirement already satisfied: pytz>=2017.2 in /usr/local/lib/python3.7/dist-packages (from pandas>=0.21.1->category_encoders) (2018.9)\n",
            "Requirement already satisfied: python-dateutil>=2.7.3 in /usr/local/lib/python3.7/dist-packages (from pandas>=0.21.1->category_encoders) (2.8.1)\n",
            "Requirement already satisfied: joblib>=0.11 in /usr/local/lib/python3.7/dist-packages (from scikit-learn>=0.20.0->category_encoders) (1.0.1)\n",
            "Installing collected packages: category-encoders\n",
            "Successfully installed category-encoders-2.2.2\n"
          ],
          "name": "stdout"
        }
      ]
    },
    {
      "cell_type": "code",
      "metadata": {
        "id": "7lWMxKS-z2EM"
      },
      "source": [
        "x = train.drop(['ID','Response'],axis = 1)\r\n",
        "y = train['Response']\r\n",
        "test = test.drop(['ID'],axis = 1)"
      ],
      "execution_count": 14,
      "outputs": []
    },
    {
      "cell_type": "code",
      "metadata": {
        "colab": {
          "base_uri": "https://localhost:8080/"
        },
        "id": "lRl1a_RrAUdp",
        "outputId": "31bae969-2c6b-4c7f-ba27-9b4d72a8c3dd"
      },
      "source": [
        "x.info()"
      ],
      "execution_count": 15,
      "outputs": [
        {
          "output_type": "stream",
          "text": [
            "<class 'pandas.core.frame.DataFrame'>\n",
            "RangeIndex: 50882 entries, 0 to 50881\n",
            "Data columns (total 13 columns):\n",
            " #   Column                   Non-Null Count  Dtype   \n",
            "---  ------                   --------------  -----   \n",
            " 0   City_Code                50882 non-null  object  \n",
            " 1   Region_Code              50882 non-null  int64   \n",
            " 2   Accomodation_Type        50882 non-null  object  \n",
            " 3   Reco_Insurance_Type      50882 non-null  object  \n",
            " 4   Upper_Age                50882 non-null  int64   \n",
            " 5   Lower_Age                50882 non-null  int64   \n",
            " 6   Is_Spouse                50882 non-null  object  \n",
            " 7   Health Indicator         39191 non-null  object  \n",
            " 8   Holding_Policy_Duration  50882 non-null  object  \n",
            " 9   Holding_Policy_Type      50882 non-null  float64 \n",
            " 10  Reco_Policy_Cat          50882 non-null  int64   \n",
            " 11  Reco_Policy_Premium      50882 non-null  float64 \n",
            " 12  prembin                  50882 non-null  category\n",
            "dtypes: category(1), float64(2), int64(4), object(6)\n",
            "memory usage: 4.7+ MB\n"
          ],
          "name": "stdout"
        }
      ]
    },
    {
      "cell_type": "code",
      "metadata": {
        "id": "n1VhxduE6-FI",
        "colab": {
          "base_uri": "https://localhost:8080/"
        },
        "outputId": "d44db70c-4a02-4686-fc9b-30fd5594cea2"
      },
      "source": [
        "import category_encoders as ce\r\n",
        "encoder=ce.TargetEncoder() \r\n",
        "x_train_encoded = encoder.fit_transform(x, y)\r\n",
        "test_encoded = encoder.transform(test)"
      ],
      "execution_count": 16,
      "outputs": [
        {
          "output_type": "stream",
          "text": [
            "/usr/local/lib/python3.7/dist-packages/statsmodels/tools/_testing.py:19: FutureWarning: pandas.util.testing is deprecated. Use the functions in the public API at pandas.testing instead.\n",
            "  import pandas.util.testing as tm\n",
            "/usr/local/lib/python3.7/dist-packages/category_encoders/utils.py:21: FutureWarning: is_categorical is deprecated and will be removed in a future version.  Use is_categorical_dtype instead\n",
            "  elif pd.api.types.is_categorical(cols):\n"
          ],
          "name": "stderr"
        }
      ]
    },
    {
      "cell_type": "code",
      "metadata": {
        "colab": {
          "base_uri": "https://localhost:8080/"
        },
        "id": "f2Jj91c_hwGX",
        "outputId": "a6243ff1-864e-4176-bf9f-9493f7845216"
      },
      "source": [
        "print(x_train_encoded.shape,y.shape,test_encoded.shape)"
      ],
      "execution_count": 17,
      "outputs": [
        {
          "output_type": "stream",
          "text": [
            "(50882, 13) (50882,) (21805, 13)\n"
          ],
          "name": "stdout"
        }
      ]
    },
    {
      "cell_type": "code",
      "metadata": {
        "colab": {
          "base_uri": "https://localhost:8080/"
        },
        "id": "-crXnuTuMXlP",
        "outputId": "57b4fe94-5e53-4a5e-9eae-e816c3680a89"
      },
      "source": [
        "x_train_encoded.info()"
      ],
      "execution_count": 18,
      "outputs": [
        {
          "output_type": "stream",
          "text": [
            "<class 'pandas.core.frame.DataFrame'>\n",
            "RangeIndex: 50882 entries, 0 to 50881\n",
            "Data columns (total 13 columns):\n",
            " #   Column                   Non-Null Count  Dtype  \n",
            "---  ------                   --------------  -----  \n",
            " 0   City_Code                50882 non-null  float64\n",
            " 1   Region_Code              50882 non-null  int64  \n",
            " 2   Accomodation_Type        50882 non-null  float64\n",
            " 3   Reco_Insurance_Type      50882 non-null  float64\n",
            " 4   Upper_Age                50882 non-null  int64  \n",
            " 5   Lower_Age                50882 non-null  int64  \n",
            " 6   Is_Spouse                50882 non-null  float64\n",
            " 7   Health Indicator         50882 non-null  float64\n",
            " 8   Holding_Policy_Duration  50882 non-null  float64\n",
            " 9   Holding_Policy_Type      50882 non-null  float64\n",
            " 10  Reco_Policy_Cat          50882 non-null  int64  \n",
            " 11  Reco_Policy_Premium      50882 non-null  float64\n",
            " 12  prembin                  50882 non-null  float64\n",
            "dtypes: float64(9), int64(4)\n",
            "memory usage: 5.0 MB\n"
          ],
          "name": "stdout"
        }
      ]
    },
    {
      "cell_type": "markdown",
      "metadata": {
        "id": "EeWep5qY4Foy"
      },
      "source": [
        "Under Sampling"
      ]
    },
    {
      "cell_type": "code",
      "metadata": {
        "id": "C185qMic3tU8"
      },
      "source": [
        "# from imblearn.under_sampling import RandomUnderSampler\r\n",
        "# rus = RandomUnderSampler(random_state=42, replacement=True)\r\n",
        "# x_rus, y_rus = rus.fit_resample(x_train_encoded, y)\r\n",
        "\r\n",
        "# print('original dataset shape:', x_rus.shape)\r\n",
        "# print('Resample dataset shape', x_train_encoded.shape)"
      ],
      "execution_count": 19,
      "outputs": []
    },
    {
      "cell_type": "code",
      "metadata": {
        "id": "5TV0qu9vHECU",
        "colab": {
          "base_uri": "https://localhost:8080/"
        },
        "outputId": "a38e77e3-e640-4444-e1d5-45b6da937317"
      },
      "source": [
        "from imblearn.over_sampling import SMOTE\r\n",
        "smote = SMOTE()\r\n",
        "x_rus, y_rus = smote.fit_resample(x_train_encoded, y)\r\n",
        "\r\n",
        "print('original dataset shape:', x_rus.shape)\r\n",
        "print('Resample dataset shape', x_train_encoded.shape)"
      ],
      "execution_count": 20,
      "outputs": [
        {
          "output_type": "stream",
          "text": [
            "/usr/local/lib/python3.7/dist-packages/sklearn/externals/six.py:31: FutureWarning: The module is deprecated in version 0.21 and will be removed in version 0.23 since we've dropped support for Python 2.7. Please rely on the official version of six (https://pypi.org/project/six/).\n",
            "  \"(https://pypi.org/project/six/).\", FutureWarning)\n",
            "/usr/local/lib/python3.7/dist-packages/sklearn/utils/deprecation.py:144: FutureWarning: The sklearn.neighbors.base module is  deprecated in version 0.22 and will be removed in version 0.24. The corresponding classes / functions should instead be imported from sklearn.neighbors. Anything that cannot be imported from sklearn.neighbors is now part of the private API.\n",
            "  warnings.warn(message, FutureWarning)\n",
            "/usr/local/lib/python3.7/dist-packages/sklearn/utils/deprecation.py:87: FutureWarning: Function safe_indexing is deprecated; safe_indexing is deprecated in version 0.22 and will be removed in version 0.24.\n",
            "  warnings.warn(msg, category=FutureWarning)\n"
          ],
          "name": "stderr"
        },
        {
          "output_type": "stream",
          "text": [
            "original dataset shape: (77346, 13)\n",
            "Resample dataset shape (50882, 13)\n"
          ],
          "name": "stdout"
        }
      ]
    },
    {
      "cell_type": "code",
      "metadata": {
        "id": "pIi_tMLzadBg"
      },
      "source": [
        "# # import library\r\n",
        "# from imblearn.over_sampling import RandomOverSampler\r\n",
        "# ros = RandomOverSampler(random_state=42)\r\n",
        "# x_rus, y_rus = ros.fit_resample(x_train_encoded, y)"
      ],
      "execution_count": 21,
      "outputs": []
    },
    {
      "cell_type": "code",
      "metadata": {
        "id": "QvszI_UN4TO7"
      },
      "source": [
        "x,y = x_rus,y_rus"
      ],
      "execution_count": 22,
      "outputs": []
    },
    {
      "cell_type": "code",
      "metadata": {
        "id": "1pin70G7HZda"
      },
      "source": [
        "from sklearn.model_selection import train_test_split\r\n",
        "from sklearn.metrics import accuracy_score,confusion_matrix,classification_report,f1_score\r\n",
        "from sklearn.metrics import roc_auc_score\r\n",
        "from sklearn.naive_bayes import MultinomialNB\r\n",
        "from sklearn.svm import LinearSVC\r\n",
        "from sklearn.ensemble import RandomForestClassifier\r\n",
        "import lightgbm as lgb \r\n",
        "import xgboost as xgb\r\n",
        "from collections import Counter\r\n",
        "from sklearn.datasets import make_classification\r\n",
        "from sklearn.ensemble import GradientBoostingClassifier\r\n",
        "from sklearn.model_selection import cross_val_score\r\n",
        "from sklearn.model_selection import RepeatedStratifiedKFold"
      ],
      "execution_count": 23,
      "outputs": []
    },
    {
      "cell_type": "code",
      "metadata": {
        "colab": {
          "base_uri": "https://localhost:8080/"
        },
        "id": "f7uc0_mQY0dB",
        "outputId": "083e20c3-c5dc-49f6-93fd-57f3af7bcbc6"
      },
      "source": [
        "x_train, x_test, y_train, y_test = train_test_split(x, y, shuffle = True, test_size = 0.2)\r\n",
        "print(x_train.shape, x_test.shape)\r\n",
        "print(y_train.shape, y_test.shape)\r\n",
        "print(test_encoded.shape)"
      ],
      "execution_count": 24,
      "outputs": [
        {
          "output_type": "stream",
          "text": [
            "(61876, 13) (15470, 13)\n",
            "(61876,) (15470,)\n",
            "(21805, 13)\n"
          ],
          "name": "stdout"
        }
      ]
    },
    {
      "cell_type": "code",
      "metadata": {
        "id": "qlZ1kEVNBQMR"
      },
      "source": [
        "test = test_encoded"
      ],
      "execution_count": 25,
      "outputs": []
    },
    {
      "cell_type": "code",
      "metadata": {
        "colab": {
          "base_uri": "https://localhost:8080/"
        },
        "id": "zHC9-tBRUynR",
        "outputId": "3bc5bfc1-b35b-44e2-cbe6-deeec89cf96b"
      },
      "source": [
        "!pip install catboost"
      ],
      "execution_count": 27,
      "outputs": [
        {
          "output_type": "stream",
          "text": [
            "Collecting catboost\n",
            "\u001b[?25l  Downloading https://files.pythonhosted.org/packages/96/3b/bb419654adcf7efff42ed8a3f84e50c8f236424b7ed1cc8ccd290852e003/catboost-0.24.4-cp37-none-manylinux1_x86_64.whl (65.7MB)\n",
            "\u001b[K     |████████████████████████████████| 65.7MB 70kB/s \n",
            "\u001b[?25hRequirement already satisfied: numpy>=1.16.0 in /usr/local/lib/python3.7/dist-packages (from catboost) (1.19.5)\n",
            "Requirement already satisfied: six in /usr/local/lib/python3.7/dist-packages (from catboost) (1.15.0)\n",
            "Requirement already satisfied: scipy in /usr/local/lib/python3.7/dist-packages (from catboost) (1.4.1)\n",
            "Requirement already satisfied: pandas>=0.24.0 in /usr/local/lib/python3.7/dist-packages (from catboost) (1.1.5)\n",
            "Requirement already satisfied: plotly in /usr/local/lib/python3.7/dist-packages (from catboost) (4.4.1)\n",
            "Requirement already satisfied: matplotlib in /usr/local/lib/python3.7/dist-packages (from catboost) (3.2.2)\n",
            "Requirement already satisfied: graphviz in /usr/local/lib/python3.7/dist-packages (from catboost) (0.10.1)\n",
            "Requirement already satisfied: python-dateutil>=2.7.3 in /usr/local/lib/python3.7/dist-packages (from pandas>=0.24.0->catboost) (2.8.1)\n",
            "Requirement already satisfied: pytz>=2017.2 in /usr/local/lib/python3.7/dist-packages (from pandas>=0.24.0->catboost) (2018.9)\n",
            "Requirement already satisfied: retrying>=1.3.3 in /usr/local/lib/python3.7/dist-packages (from plotly->catboost) (1.3.3)\n",
            "Requirement already satisfied: cycler>=0.10 in /usr/local/lib/python3.7/dist-packages (from matplotlib->catboost) (0.10.0)\n",
            "Requirement already satisfied: kiwisolver>=1.0.1 in /usr/local/lib/python3.7/dist-packages (from matplotlib->catboost) (1.3.1)\n",
            "Requirement already satisfied: pyparsing!=2.0.4,!=2.1.2,!=2.1.6,>=2.0.1 in /usr/local/lib/python3.7/dist-packages (from matplotlib->catboost) (2.4.7)\n",
            "Installing collected packages: catboost\n",
            "Successfully installed catboost-0.24.4\n"
          ],
          "name": "stdout"
        }
      ]
    },
    {
      "cell_type": "code",
      "metadata": {
        "id": "uIMh9hKfF9OU",
        "colab": {
          "base_uri": "https://localhost:8080/"
        },
        "outputId": "82465366-0b32-45af-9f85-84081fc5b34b"
      },
      "source": [
        "print('Random Forest Classifier')\r\n",
        "clf=RandomForestClassifier()\r\n",
        "clf.fit(x_train,y_train)\r\n",
        "y_predrf=clf.predict(x_test)\r\n",
        "print(roc_auc_score(y_test,y_predrf),'\\n')\r\n",
        "\r\n",
        "print('Gradient Boosting Classifier')\r\n",
        "model = GradientBoostingClassifier()\r\n",
        "model.fit(x_train, y_train)\r\n",
        "ypredgbc = model.predict(x_test)\r\n",
        "print(roc_auc_score(y_test,ypredgbc),'\\n')\r\n",
        "\r\n",
        "from xgboost import XGBClassifier\r\n",
        "print('XGB Classifier')\r\n",
        "model = XGBClassifier()\r\n",
        "model.fit(x_train, y_train)\r\n",
        "ypredxgb = model.predict(x_test)\r\n",
        "print(roc_auc_score(y_test,ypredxgb),'\\n')\r\n",
        "\r\n",
        "from lightgbm import LGBMClassifier\r\n",
        "print('LGBM Classifier')\r\n",
        "model = LGBMClassifier()\r\n",
        "model.fit(x_train, y_train)\r\n",
        "ypredlgbm = model.predict(x_test)\r\n",
        "print(roc_auc_score(y_test,ypredlgbm),'\\n')\r\n",
        "\r\n",
        "from catboost import CatBoostClassifier\r\n",
        "print('CATBoost Classifier')\r\n",
        "model = CatBoostClassifier(verbose=0, n_estimators=100)\r\n",
        "model.fit(x_train,y_train)\r\n",
        "ypredcat = model.predict(x_test)\r\n",
        "print(roc_auc_score(y_test,ypredcat),'\\n')"
      ],
      "execution_count": 28,
      "outputs": [
        {
          "output_type": "stream",
          "text": [
            "Random Forest Classifier\n",
            "0.8361521934397284 \n",
            "\n",
            "Gradient Boosting Classifier\n",
            "0.8369687251449425 \n",
            "\n",
            "XGB Classifier\n",
            "0.8381998452468534 \n",
            "\n",
            "LGBM Classifier\n",
            "0.8439661475360691 \n",
            "\n",
            "CATBoost Classifier\n",
            "0.8423627787709145 \n",
            "\n"
          ],
          "name": "stdout"
        }
      ]
    },
    {
      "cell_type": "code",
      "metadata": {
        "id": "fhmFpGVnj3kO"
      },
      "source": [
        "#LGBM Final Submission \r\n",
        "print('LGBM Classifier')\r\n",
        "model = LGBMClassifier()\r\n",
        "model.fit(x, y)\r\n",
        "ypredlgbm = model.predict_proba(test)"
      ],
      "execution_count": null,
      "outputs": []
    },
    {
      "cell_type": "code",
      "metadata": {
        "id": "IClkYWMrkECS"
      },
      "source": [
        "# df = pd.DataFrame(ypredlgbm)\r\n",
        "# from google.colab import files\r\n",
        "# df.to_csv('lgbmsmotetarget.csv') \r\n",
        "# files.download('lgbmsmotetarget.csv')"
      ],
      "execution_count": null,
      "outputs": []
    }
  ]
}