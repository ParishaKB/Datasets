{
  "nbformat": 4,
  "nbformat_minor": 0,
  "metadata": {
    "colab": {
      "name": "EDA and baseline model.ipynb",
      "provenance": [],
      "collapsed_sections": [
        "tbdLrg1yFStG",
        "2ni6OQ1s3pWT"
      ],
      "authorship_tag": "ABX9TyMung9h/coGTewFRO+WZT+2",
      "include_colab_link": true
    },
    "kernelspec": {
      "name": "python3",
      "display_name": "Python 3"
    },
    "accelerator": "GPU"
  },
  "cells": [
    {
      "cell_type": "markdown",
      "metadata": {
        "id": "view-in-github",
        "colab_type": "text"
      },
      "source": [
        "<a href=\"https://colab.research.google.com/github/ParishaKB/Hackathons/blob/main/job-a-thon/EDA_and_baseline_model.ipynb\" target=\"_parent\"><img src=\"https://colab.research.google.com/assets/colab-badge.svg\" alt=\"Open In Colab\"/></a>"
      ]
    },
    {
      "cell_type": "markdown",
      "metadata": {
        "id": "Z81QBrUeBy8A"
      },
      "source": [
        "# Improvements \r\n",
        "\r\n",
        "Age Bins \r\n",
        "\r\n",
        "Chi-square tests for categorical variables wrt correlation with response \r\n",
        "\r\n",
        "Finding better ways to manage ages and health indicators "
      ]
    },
    {
      "cell_type": "code",
      "metadata": {
        "colab": {
          "base_uri": "https://localhost:8080/"
        },
        "id": "f1r0cPxkl64W",
        "outputId": "1a499aba-ee1a-49dd-b0fb-8f579307c531"
      },
      "source": [
        "from google.colab import drive\r\n",
        "drive.mount('/content/drive')"
      ],
      "execution_count": null,
      "outputs": [
        {
          "output_type": "stream",
          "text": [
            "Drive already mounted at /content/drive; to attempt to forcibly remount, call drive.mount(\"/content/drive\", force_remount=True).\n"
          ],
          "name": "stdout"
        }
      ]
    },
    {
      "cell_type": "code",
      "metadata": {
        "id": "hlglPF5kmVn3"
      },
      "source": [
        "import pandas as pd\r\n",
        "import numpy as np\r\n",
        "import matplotlib.pyplot as plt\r\n",
        "import seaborn as sns\r\n",
        "from sklearn import preprocessing "
      ],
      "execution_count": null,
      "outputs": []
    },
    {
      "cell_type": "code",
      "metadata": {
        "id": "rZWpoCUUmojv"
      },
      "source": [
        "train = pd.read_csv('/content/drive/MyDrive/Job-a-thon/train_Df64byy.csv')\r\n",
        "test = pd.read_csv('/content/drive/MyDrive/Job-a-thon/test_YCcRUnU.csv')"
      ],
      "execution_count": null,
      "outputs": []
    },
    {
      "cell_type": "code",
      "metadata": {
        "colab": {
          "base_uri": "https://localhost:8080/"
        },
        "id": "DIaNxtiemx2k",
        "outputId": "c0235991-32bc-4651-9456-8835766f5718"
      },
      "source": [
        "print(train.shape,test.shape)"
      ],
      "execution_count": null,
      "outputs": [
        {
          "output_type": "stream",
          "text": [
            "(50882, 14) (21805, 13)\n"
          ],
          "name": "stdout"
        }
      ]
    },
    {
      "cell_type": "markdown",
      "metadata": {
        "id": "tbdLrg1yFStG"
      },
      "source": [
        "## EDA"
      ]
    },
    {
      "cell_type": "code",
      "metadata": {
        "colab": {
          "base_uri": "https://localhost:8080/",
          "height": 233
        },
        "id": "55GDPBVdm1VA",
        "outputId": "7dd25fda-b002-408f-ff03-e69b493444e6"
      },
      "source": [
        "train.head()"
      ],
      "execution_count": null,
      "outputs": [
        {
          "output_type": "execute_result",
          "data": {
            "text/html": [
              "<div>\n",
              "<style scoped>\n",
              "    .dataframe tbody tr th:only-of-type {\n",
              "        vertical-align: middle;\n",
              "    }\n",
              "\n",
              "    .dataframe tbody tr th {\n",
              "        vertical-align: top;\n",
              "    }\n",
              "\n",
              "    .dataframe thead th {\n",
              "        text-align: right;\n",
              "    }\n",
              "</style>\n",
              "<table border=\"1\" class=\"dataframe\">\n",
              "  <thead>\n",
              "    <tr style=\"text-align: right;\">\n",
              "      <th></th>\n",
              "      <th>ID</th>\n",
              "      <th>City_Code</th>\n",
              "      <th>Region_Code</th>\n",
              "      <th>Accomodation_Type</th>\n",
              "      <th>Reco_Insurance_Type</th>\n",
              "      <th>Upper_Age</th>\n",
              "      <th>Lower_Age</th>\n",
              "      <th>Is_Spouse</th>\n",
              "      <th>Health Indicator</th>\n",
              "      <th>Holding_Policy_Duration</th>\n",
              "      <th>Holding_Policy_Type</th>\n",
              "      <th>Reco_Policy_Cat</th>\n",
              "      <th>Reco_Policy_Premium</th>\n",
              "      <th>Response</th>\n",
              "    </tr>\n",
              "  </thead>\n",
              "  <tbody>\n",
              "    <tr>\n",
              "      <th>0</th>\n",
              "      <td>1</td>\n",
              "      <td>C3</td>\n",
              "      <td>3213</td>\n",
              "      <td>Rented</td>\n",
              "      <td>Individual</td>\n",
              "      <td>36</td>\n",
              "      <td>36</td>\n",
              "      <td>No</td>\n",
              "      <td>X1</td>\n",
              "      <td>14+</td>\n",
              "      <td>3.0</td>\n",
              "      <td>22</td>\n",
              "      <td>11628.0</td>\n",
              "      <td>0</td>\n",
              "    </tr>\n",
              "    <tr>\n",
              "      <th>1</th>\n",
              "      <td>2</td>\n",
              "      <td>C5</td>\n",
              "      <td>1117</td>\n",
              "      <td>Owned</td>\n",
              "      <td>Joint</td>\n",
              "      <td>75</td>\n",
              "      <td>22</td>\n",
              "      <td>No</td>\n",
              "      <td>X2</td>\n",
              "      <td>NaN</td>\n",
              "      <td>NaN</td>\n",
              "      <td>22</td>\n",
              "      <td>30510.0</td>\n",
              "      <td>0</td>\n",
              "    </tr>\n",
              "    <tr>\n",
              "      <th>2</th>\n",
              "      <td>3</td>\n",
              "      <td>C5</td>\n",
              "      <td>3732</td>\n",
              "      <td>Owned</td>\n",
              "      <td>Individual</td>\n",
              "      <td>32</td>\n",
              "      <td>32</td>\n",
              "      <td>No</td>\n",
              "      <td>NaN</td>\n",
              "      <td>1.0</td>\n",
              "      <td>1.0</td>\n",
              "      <td>19</td>\n",
              "      <td>7450.0</td>\n",
              "      <td>1</td>\n",
              "    </tr>\n",
              "    <tr>\n",
              "      <th>3</th>\n",
              "      <td>4</td>\n",
              "      <td>C24</td>\n",
              "      <td>4378</td>\n",
              "      <td>Owned</td>\n",
              "      <td>Joint</td>\n",
              "      <td>52</td>\n",
              "      <td>48</td>\n",
              "      <td>No</td>\n",
              "      <td>X1</td>\n",
              "      <td>14+</td>\n",
              "      <td>3.0</td>\n",
              "      <td>19</td>\n",
              "      <td>17780.0</td>\n",
              "      <td>0</td>\n",
              "    </tr>\n",
              "    <tr>\n",
              "      <th>4</th>\n",
              "      <td>5</td>\n",
              "      <td>C8</td>\n",
              "      <td>2190</td>\n",
              "      <td>Rented</td>\n",
              "      <td>Individual</td>\n",
              "      <td>44</td>\n",
              "      <td>44</td>\n",
              "      <td>No</td>\n",
              "      <td>X2</td>\n",
              "      <td>3.0</td>\n",
              "      <td>1.0</td>\n",
              "      <td>16</td>\n",
              "      <td>10404.0</td>\n",
              "      <td>0</td>\n",
              "    </tr>\n",
              "  </tbody>\n",
              "</table>\n",
              "</div>"
            ],
            "text/plain": [
              "   ID City_Code  Region_Code  ... Reco_Policy_Cat Reco_Policy_Premium  Response\n",
              "0   1        C3         3213  ...              22             11628.0         0\n",
              "1   2        C5         1117  ...              22             30510.0         0\n",
              "2   3        C5         3732  ...              19              7450.0         1\n",
              "3   4       C24         4378  ...              19             17780.0         0\n",
              "4   5        C8         2190  ...              16             10404.0         0\n",
              "\n",
              "[5 rows x 14 columns]"
            ]
          },
          "metadata": {
            "tags": []
          },
          "execution_count": 5
        }
      ]
    },
    {
      "cell_type": "code",
      "metadata": {
        "colab": {
          "base_uri": "https://localhost:8080/"
        },
        "id": "ZNYS5BSencb4",
        "outputId": "81516c2f-aad0-4f3b-a87b-ec320688baef"
      },
      "source": [
        "train.info()"
      ],
      "execution_count": null,
      "outputs": [
        {
          "output_type": "stream",
          "text": [
            "<class 'pandas.core.frame.DataFrame'>\n",
            "RangeIndex: 50882 entries, 0 to 50881\n",
            "Data columns (total 14 columns):\n",
            " #   Column                   Non-Null Count  Dtype  \n",
            "---  ------                   --------------  -----  \n",
            " 0   ID                       50882 non-null  int64  \n",
            " 1   City_Code                50882 non-null  object \n",
            " 2   Region_Code              50882 non-null  int64  \n",
            " 3   Accomodation_Type        50882 non-null  object \n",
            " 4   Reco_Insurance_Type      50882 non-null  object \n",
            " 5   Upper_Age                50882 non-null  int64  \n",
            " 6   Lower_Age                50882 non-null  int64  \n",
            " 7   Is_Spouse                50882 non-null  object \n",
            " 8   Health Indicator         39191 non-null  object \n",
            " 9   Holding_Policy_Duration  30631 non-null  object \n",
            " 10  Holding_Policy_Type      30631 non-null  float64\n",
            " 11  Reco_Policy_Cat          50882 non-null  int64  \n",
            " 12  Reco_Policy_Premium      50882 non-null  float64\n",
            " 13  Response                 50882 non-null  int64  \n",
            "dtypes: float64(2), int64(6), object(6)\n",
            "memory usage: 5.4+ MB\n"
          ],
          "name": "stdout"
        }
      ]
    },
    {
      "cell_type": "markdown",
      "metadata": {
        "id": "yDN8WItqn6xc"
      },
      "source": [
        "Two types of accomodation \r\n",
        ">rented and owned \r\n",
        "\r\n",
        "Two types of Recommended insurance  \r\n",
        ">individual and joint\r\n",
        "\r\n",
        "Upper Age and Lower Age (only for joint)\r\n",
        ">Incase of joint they are different else same \r\n",
        "\r\n",
        "If the customers are married to each other \r\n",
        ">Yes or no (only for joint)\r\n",
        "\r\n",
        "Health Indicator   \r\n",
        ">lot of null, 9 categories \r\n",
        "\r\n",
        "Holding_Policy_Duration  \r\n",
        ">15 categories (1,2,3,..14,14+ years), lot of null\r\n",
        "> null maybe because they have no holding policy \r\n",
        "\r\n",
        "Holding_Policy_Type \r\n",
        ">should be categorical,datatype error\r\n",
        "> null maybe because they have no holding policy\r\n",
        "\r\n",
        "Reco_Policy_Cat\r\n",
        "> 22 categories\r\n",
        "\r\n",
        "Reco_Policy_Premium\r\n",
        ">integer amount \r\n",
        "\r\n",
        "Response \r\n",
        ">very imbalanced "
      ]
    },
    {
      "cell_type": "code",
      "metadata": {
        "colab": {
          "base_uri": "https://localhost:8080/"
        },
        "id": "_ELNk1HBnWaa",
        "outputId": "5552150e-9d98-4b23-8f77-590c13074760"
      },
      "source": [
        "for col in train:\r\n",
        "    print(col,train[col].nunique())"
      ],
      "execution_count": null,
      "outputs": [
        {
          "output_type": "stream",
          "text": [
            "ID 50882\n",
            "City_Code 36\n",
            "Region_Code 5316\n",
            "Accomodation_Type 2\n",
            "Reco_Insurance_Type 2\n",
            "Upper_Age 58\n",
            "Lower_Age 60\n",
            "Is_Spouse 2\n",
            "Health Indicator 9\n",
            "Holding_Policy_Duration 15\n",
            "Holding_Policy_Type 4\n",
            "Reco_Policy_Cat 22\n",
            "Reco_Policy_Premium 6977\n",
            "Response 2\n"
          ],
          "name": "stdout"
        }
      ]
    },
    {
      "cell_type": "code",
      "metadata": {
        "id": "qXNj2R3JyGGp"
      },
      "source": [
        "val_count = ['Accomodation_Type','Reco_Insurance_Type','Is_Spouse',\r\n",
        "       'Health Indicator', 'Holding_Policy_Duration', 'Holding_Policy_Type',\r\n",
        "       'Reco_Policy_Cat', 'Response']"
      ],
      "execution_count": null,
      "outputs": []
    },
    {
      "cell_type": "code",
      "metadata": {
        "colab": {
          "base_uri": "https://localhost:8080/"
        },
        "id": "mbDpfv7FnX0a",
        "outputId": "ed9fc997-aeb5-451e-c382-67cf04e37b7e"
      },
      "source": [
        "for col in val_count:\r\n",
        "    print(col,'\\n',train[col].value_counts(),'\\n')"
      ],
      "execution_count": null,
      "outputs": [
        {
          "output_type": "stream",
          "text": [
            "Accomodation_Type \n",
            " Owned     27951\n",
            "Rented    22931\n",
            "Name: Accomodation_Type, dtype: int64 \n",
            "\n",
            "Reco_Insurance_Type \n",
            " Individual    40536\n",
            "Joint         10346\n",
            "Name: Reco_Insurance_Type, dtype: int64 \n",
            "\n",
            "Is_Spouse \n",
            " No     42460\n",
            "Yes     8422\n",
            "Name: Is_Spouse, dtype: int64 \n",
            "\n",
            "Health Indicator \n",
            " X1    13010\n",
            "X2    10332\n",
            "X3     6762\n",
            "X4     5743\n",
            "X5     1727\n",
            "X6     1280\n",
            "X7      196\n",
            "X8       78\n",
            "X9       63\n",
            "Name: Health Indicator, dtype: int64 \n",
            "\n",
            "Holding_Policy_Duration \n",
            " 1.0     4499\n",
            "14+     4335\n",
            "2.0     4260\n",
            "3.0     3586\n",
            "4.0     2771\n",
            "5.0     2362\n",
            "6.0     1894\n",
            "7.0     1645\n",
            "8.0     1316\n",
            "9.0     1114\n",
            "10.0     813\n",
            "11.0     546\n",
            "12.0     513\n",
            "13.0     511\n",
            "14.0     466\n",
            "Name: Holding_Policy_Duration, dtype: int64 \n",
            "\n",
            "Holding_Policy_Type \n",
            " 3.0    13279\n",
            "1.0     8173\n",
            "2.0     5005\n",
            "4.0     4174\n",
            "Name: Holding_Policy_Type, dtype: int64 \n",
            "\n",
            "Reco_Policy_Cat \n",
            " 22    6602\n",
            "18    5553\n",
            "21    5027\n",
            "16    4084\n",
            "17    3756\n",
            "19    3708\n",
            "20    3177\n",
            "12    2168\n",
            "1     1967\n",
            "2     1917\n",
            "14    1742\n",
            "13    1684\n",
            "15    1615\n",
            "3     1059\n",
            "4     1015\n",
            "5     1007\n",
            "6      851\n",
            "7      834\n",
            "9      789\n",
            "11     781\n",
            "8      776\n",
            "10     770\n",
            "Name: Reco_Policy_Cat, dtype: int64 \n",
            "\n",
            "Response \n",
            " 0    38673\n",
            "1    12209\n",
            "Name: Response, dtype: int64 \n",
            "\n"
          ],
          "name": "stdout"
        }
      ]
    },
    {
      "cell_type": "code",
      "metadata": {
        "colab": {
          "base_uri": "https://localhost:8080/",
          "height": 1000
        },
        "id": "5fpTVEDpwZf4",
        "outputId": "dfd58426-d9d8-4070-f46e-53a5176f36b2"
      },
      "source": [
        "for col in val_count :\r\n",
        "  plt.figure() #this creates a new figure on which your plot will appear\r\n",
        "  sns.countplot(x=col,data=train)"
      ],
      "execution_count": null,
      "outputs": [
        {
          "output_type": "display_data",
          "data": {
            "image/png": "[encoded data removed]",
            "text/plain": [
              "<Figure size 432x288 with 1 Axes>"
            ]
          },
          "metadata": {
            "tags": [],
            "needs_background": "light"
          }
        },
        {
          "output_type": "display_data",
          "data": {
            "image/png": "[encoded data removed]",
            "text/plain": [
              "<Figure size 432x288 with 1 Axes>"
            ]
          },
          "metadata": {
            "tags": [],
            "needs_background": "light"
          }
        },
        {
          "output_type": "display_data",
          "data": {
            "image/png": "[encoded data removed]",
            "text/plain": [
              "<Figure size 432x288 with 1 Axes>"
            ]
          },
          "metadata": {
            "tags": [],
            "needs_background": "light"
          }
        },
        {
          "output_type": "display_data",
          "data": {
            "image/png": "[encoded data removed]",
            "text/plain": [
              "<Figure size 432x288 with 1 Axes>"
            ]
          },
          "metadata": {
            "tags": [],
            "needs_background": "light"
          }
        },
        {
          "output_type": "display_data",
          "data": {
            "image/png": "[encoded data removed]",
            "text/plain": [
              "<Figure size 432x288 with 1 Axes>"
            ]
          },
          "metadata": {
            "tags": [],
            "needs_background": "light"
          }
        },
        {
          "output_type": "display_data",
          "data": {
            "image/png": "[encoded data removed]",
            "text/plain": [
              "<Figure size 432x288 with 1 Axes>"
            ]
          },
          "metadata": {
            "tags": [],
            "needs_background": "light"
          }
        },
        {
          "output_type": "display_data",
          "data": {
            "image/png": "[encoded data removed]",
            "text/plain": [
              "<Figure size 432x288 with 1 Axes>"
            ]
          },
          "metadata": {
            "tags": [],
            "needs_background": "light"
          }
        },
        {
          "output_type": "display_data",
          "data": {
            "image/png": "[encoded data removed]",
            "text/plain": [
              "<Figure size 432x288 with 1 Axes>"
            ]
          },
          "metadata": {
            "tags": [],
            "needs_background": "light"
          }
        }
      ]
    },
    {
      "cell_type": "code",
      "metadata": {
        "colab": {
          "base_uri": "https://localhost:8080/"
        },
        "id": "VyqOKQh84Gyq",
        "outputId": "75f7790b-74e4-453f-a946-259f6f2a673b"
      },
      "source": [
        "train.columns"
      ],
      "execution_count": null,
      "outputs": [
        {
          "output_type": "execute_result",
          "data": {
            "text/plain": [
              "Index(['ID', 'City_Code', 'Region_Code', 'Accomodation_Type',\n",
              "       'Reco_Insurance_Type', 'Upper_Age', 'Lower_Age', 'Is_Spouse',\n",
              "       'Health Indicator', 'Holding_Policy_Duration', 'Holding_Policy_Type',\n",
              "       'Reco_Policy_Cat', 'Reco_Policy_Premium', 'Response'],\n",
              "      dtype='object')"
            ]
          },
          "metadata": {
            "tags": []
          },
          "execution_count": 11
        }
      ]
    },
    {
      "cell_type": "code",
      "metadata": {
        "colab": {
          "base_uri": "https://localhost:8080/",
          "height": 366
        },
        "id": "IApK9r6W0z5B",
        "outputId": "ca63c42f-31a5-43d9-b9d0-14519147a94e"
      },
      "source": [
        "dataplot=sns.heatmap(train.corr()) \r\n",
        "plt.show()"
      ],
      "execution_count": null,
      "outputs": [
        {
          "output_type": "display_data",
          "data": {
            "image/png": "[encoded data removed]",
            "text/plain": [
              "<Figure size 432x288 with 2 Axes>"
            ]
          },
          "metadata": {
            "tags": [],
            "needs_background": "light"
          }
        }
      ]
    },
    {
      "cell_type": "code",
      "metadata": {
        "id": "t7LW75ki3-5b"
      },
      "source": [
        "train_policy = train[train['Holding_Policy_Type'].isin([1.0, 2.0, 3.0, 4.0])]"
      ],
      "execution_count": null,
      "outputs": []
    },
    {
      "cell_type": "code",
      "metadata": {
        "colab": {
          "base_uri": "https://localhost:8080/",
          "height": 233
        },
        "id": "AAWR00h7by5X",
        "outputId": "ede36ae3-f59a-404b-87ae-158b457494b5"
      },
      "source": [
        "train_policy.head()"
      ],
      "execution_count": null,
      "outputs": [
        {
          "output_type": "execute_result",
          "data": {
            "text/html": [
              "<div>\n",
              "<style scoped>\n",
              "    .dataframe tbody tr th:only-of-type {\n",
              "        vertical-align: middle;\n",
              "    }\n",
              "\n",
              "    .dataframe tbody tr th {\n",
              "        vertical-align: top;\n",
              "    }\n",
              "\n",
              "    .dataframe thead th {\n",
              "        text-align: right;\n",
              "    }\n",
              "</style>\n",
              "<table border=\"1\" class=\"dataframe\">\n",
              "  <thead>\n",
              "    <tr style=\"text-align: right;\">\n",
              "      <th></th>\n",
              "      <th>ID</th>\n",
              "      <th>City_Code</th>\n",
              "      <th>Region_Code</th>\n",
              "      <th>Accomodation_Type</th>\n",
              "      <th>Reco_Insurance_Type</th>\n",
              "      <th>Upper_Age</th>\n",
              "      <th>Lower_Age</th>\n",
              "      <th>Is_Spouse</th>\n",
              "      <th>Health Indicator</th>\n",
              "      <th>Holding_Policy_Duration</th>\n",
              "      <th>Holding_Policy_Type</th>\n",
              "      <th>Reco_Policy_Cat</th>\n",
              "      <th>Reco_Policy_Premium</th>\n",
              "      <th>Response</th>\n",
              "    </tr>\n",
              "  </thead>\n",
              "  <tbody>\n",
              "    <tr>\n",
              "      <th>0</th>\n",
              "      <td>1</td>\n",
              "      <td>C3</td>\n",
              "      <td>3213</td>\n",
              "      <td>Rented</td>\n",
              "      <td>Individual</td>\n",
              "      <td>36</td>\n",
              "      <td>36</td>\n",
              "      <td>No</td>\n",
              "      <td>X1</td>\n",
              "      <td>14+</td>\n",
              "      <td>3.0</td>\n",
              "      <td>22</td>\n",
              "      <td>11628.0</td>\n",
              "      <td>0</td>\n",
              "    </tr>\n",
              "    <tr>\n",
              "      <th>2</th>\n",
              "      <td>3</td>\n",
              "      <td>C5</td>\n",
              "      <td>3732</td>\n",
              "      <td>Owned</td>\n",
              "      <td>Individual</td>\n",
              "      <td>32</td>\n",
              "      <td>32</td>\n",
              "      <td>No</td>\n",
              "      <td>NaN</td>\n",
              "      <td>1.0</td>\n",
              "      <td>1.0</td>\n",
              "      <td>19</td>\n",
              "      <td>7450.0</td>\n",
              "      <td>1</td>\n",
              "    </tr>\n",
              "    <tr>\n",
              "      <th>3</th>\n",
              "      <td>4</td>\n",
              "      <td>C24</td>\n",
              "      <td>4378</td>\n",
              "      <td>Owned</td>\n",
              "      <td>Joint</td>\n",
              "      <td>52</td>\n",
              "      <td>48</td>\n",
              "      <td>No</td>\n",
              "      <td>X1</td>\n",
              "      <td>14+</td>\n",
              "      <td>3.0</td>\n",
              "      <td>19</td>\n",
              "      <td>17780.0</td>\n",
              "      <td>0</td>\n",
              "    </tr>\n",
              "    <tr>\n",
              "      <th>4</th>\n",
              "      <td>5</td>\n",
              "      <td>C8</td>\n",
              "      <td>2190</td>\n",
              "      <td>Rented</td>\n",
              "      <td>Individual</td>\n",
              "      <td>44</td>\n",
              "      <td>44</td>\n",
              "      <td>No</td>\n",
              "      <td>X2</td>\n",
              "      <td>3.0</td>\n",
              "      <td>1.0</td>\n",
              "      <td>16</td>\n",
              "      <td>10404.0</td>\n",
              "      <td>0</td>\n",
              "    </tr>\n",
              "    <tr>\n",
              "      <th>5</th>\n",
              "      <td>6</td>\n",
              "      <td>C9</td>\n",
              "      <td>1785</td>\n",
              "      <td>Rented</td>\n",
              "      <td>Individual</td>\n",
              "      <td>52</td>\n",
              "      <td>52</td>\n",
              "      <td>No</td>\n",
              "      <td>X2</td>\n",
              "      <td>5.0</td>\n",
              "      <td>1.0</td>\n",
              "      <td>22</td>\n",
              "      <td>15264.0</td>\n",
              "      <td>1</td>\n",
              "    </tr>\n",
              "  </tbody>\n",
              "</table>\n",
              "</div>"
            ],
            "text/plain": [
              "   ID City_Code  Region_Code  ... Reco_Policy_Cat Reco_Policy_Premium  Response\n",
              "0   1        C3         3213  ...              22             11628.0         0\n",
              "2   3        C5         3732  ...              19              7450.0         1\n",
              "3   4       C24         4378  ...              19             17780.0         0\n",
              "4   5        C8         2190  ...              16             10404.0         0\n",
              "5   6        C9         1785  ...              22             15264.0         1\n",
              "\n",
              "[5 rows x 14 columns]"
            ]
          },
          "metadata": {
            "tags": []
          },
          "execution_count": 14
        }
      ]
    },
    {
      "cell_type": "code",
      "metadata": {
        "colab": {
          "base_uri": "https://localhost:8080/",
          "height": 233
        },
        "id": "8LAZgtkmb2je",
        "outputId": "141938fb-aaf2-43b4-987c-258a7ac20ff2"
      },
      "source": [
        "train_no_policy = train[train['Holding_Policy_Duration'].isna()]\r\n",
        "train_no_policy.head()"
      ],
      "execution_count": null,
      "outputs": [
        {
          "output_type": "execute_result",
          "data": {
            "text/html": [
              "<div>\n",
              "<style scoped>\n",
              "    .dataframe tbody tr th:only-of-type {\n",
              "        vertical-align: middle;\n",
              "    }\n",
              "\n",
              "    .dataframe tbody tr th {\n",
              "        vertical-align: top;\n",
              "    }\n",
              "\n",
              "    .dataframe thead th {\n",
              "        text-align: right;\n",
              "    }\n",
              "</style>\n",
              "<table border=\"1\" class=\"dataframe\">\n",
              "  <thead>\n",
              "    <tr style=\"text-align: right;\">\n",
              "      <th></th>\n",
              "      <th>ID</th>\n",
              "      <th>City_Code</th>\n",
              "      <th>Region_Code</th>\n",
              "      <th>Accomodation_Type</th>\n",
              "      <th>Reco_Insurance_Type</th>\n",
              "      <th>Upper_Age</th>\n",
              "      <th>Lower_Age</th>\n",
              "      <th>Is_Spouse</th>\n",
              "      <th>Health Indicator</th>\n",
              "      <th>Holding_Policy_Duration</th>\n",
              "      <th>Holding_Policy_Type</th>\n",
              "      <th>Reco_Policy_Cat</th>\n",
              "      <th>Reco_Policy_Premium</th>\n",
              "      <th>Response</th>\n",
              "    </tr>\n",
              "  </thead>\n",
              "  <tbody>\n",
              "    <tr>\n",
              "      <th>1</th>\n",
              "      <td>2</td>\n",
              "      <td>C5</td>\n",
              "      <td>1117</td>\n",
              "      <td>Owned</td>\n",
              "      <td>Joint</td>\n",
              "      <td>75</td>\n",
              "      <td>22</td>\n",
              "      <td>No</td>\n",
              "      <td>X2</td>\n",
              "      <td>NaN</td>\n",
              "      <td>NaN</td>\n",
              "      <td>22</td>\n",
              "      <td>30510.0</td>\n",
              "      <td>0</td>\n",
              "    </tr>\n",
              "    <tr>\n",
              "      <th>6</th>\n",
              "      <td>7</td>\n",
              "      <td>C3</td>\n",
              "      <td>679</td>\n",
              "      <td>Owned</td>\n",
              "      <td>Individual</td>\n",
              "      <td>28</td>\n",
              "      <td>28</td>\n",
              "      <td>No</td>\n",
              "      <td>NaN</td>\n",
              "      <td>NaN</td>\n",
              "      <td>NaN</td>\n",
              "      <td>17</td>\n",
              "      <td>10640.0</td>\n",
              "      <td>0</td>\n",
              "    </tr>\n",
              "    <tr>\n",
              "      <th>10</th>\n",
              "      <td>11</td>\n",
              "      <td>C28</td>\n",
              "      <td>600</td>\n",
              "      <td>Owned</td>\n",
              "      <td>Individual</td>\n",
              "      <td>21</td>\n",
              "      <td>21</td>\n",
              "      <td>No</td>\n",
              "      <td>X2</td>\n",
              "      <td>NaN</td>\n",
              "      <td>NaN</td>\n",
              "      <td>21</td>\n",
              "      <td>4068.0</td>\n",
              "      <td>1</td>\n",
              "    </tr>\n",
              "    <tr>\n",
              "      <th>13</th>\n",
              "      <td>14</td>\n",
              "      <td>C5</td>\n",
              "      <td>900</td>\n",
              "      <td>Rented</td>\n",
              "      <td>Individual</td>\n",
              "      <td>20</td>\n",
              "      <td>20</td>\n",
              "      <td>No</td>\n",
              "      <td>X2</td>\n",
              "      <td>NaN</td>\n",
              "      <td>NaN</td>\n",
              "      <td>18</td>\n",
              "      <td>8364.0</td>\n",
              "      <td>0</td>\n",
              "    </tr>\n",
              "    <tr>\n",
              "      <th>15</th>\n",
              "      <td>16</td>\n",
              "      <td>C3</td>\n",
              "      <td>1484</td>\n",
              "      <td>Rented</td>\n",
              "      <td>Individual</td>\n",
              "      <td>20</td>\n",
              "      <td>20</td>\n",
              "      <td>No</td>\n",
              "      <td>X3</td>\n",
              "      <td>NaN</td>\n",
              "      <td>NaN</td>\n",
              "      <td>2</td>\n",
              "      <td>4912.0</td>\n",
              "      <td>0</td>\n",
              "    </tr>\n",
              "  </tbody>\n",
              "</table>\n",
              "</div>"
            ],
            "text/plain": [
              "    ID City_Code  Region_Code  ... Reco_Policy_Cat Reco_Policy_Premium  Response\n",
              "1    2        C5         1117  ...              22             30510.0         0\n",
              "6    7        C3          679  ...              17             10640.0         0\n",
              "10  11       C28          600  ...              21              4068.0         1\n",
              "13  14        C5          900  ...              18              8364.0         0\n",
              "15  16        C3         1484  ...               2              4912.0         0\n",
              "\n",
              "[5 rows x 14 columns]"
            ]
          },
          "metadata": {
            "tags": []
          },
          "execution_count": 15
        }
      ]
    },
    {
      "cell_type": "code",
      "metadata": {
        "colab": {
          "base_uri": "https://localhost:8080/"
        },
        "id": "aDQWDcUzcq44",
        "outputId": "ac6ad811-e41f-4659-b1e2-5cf1082be085"
      },
      "source": [
        "print(train.shape,train_policy.shape,train_no_policy.shape)"
      ],
      "execution_count": null,
      "outputs": [
        {
          "output_type": "stream",
          "text": [
            "(50882, 14) (30631, 14) (20251, 14)\n"
          ],
          "name": "stdout"
        }
      ]
    },
    {
      "cell_type": "markdown",
      "metadata": {
        "id": "AwRHpSbseZg-"
      },
      "source": [
        "Data has been divided into two sets based on policy no policy"
      ]
    },
    {
      "cell_type": "code",
      "metadata": {
        "colab": {
          "base_uri": "https://localhost:8080/"
        },
        "id": "iI9XtNTkeF4n",
        "outputId": "f49a2c2e-dad1-4d5e-b617-e7bf19a6b539"
      },
      "source": [
        "print('Response','\\n',train_policy['Response'].value_counts()/len(train_policy)*100,'\\n')"
      ],
      "execution_count": null,
      "outputs": [
        {
          "output_type": "stream",
          "text": [
            "Response \n",
            " 0    75.939408\n",
            "1    24.060592\n",
            "Name: Response, dtype: float64 \n",
            "\n"
          ],
          "name": "stdout"
        }
      ]
    },
    {
      "cell_type": "code",
      "metadata": {
        "colab": {
          "base_uri": "https://localhost:8080/"
        },
        "id": "4t4H13uoer1h",
        "outputId": "d2e045a4-b0e7-41d8-c631-dce231aff211"
      },
      "source": [
        "print('Response','\\n',train_no_policy['Response'].value_counts()/len(train_no_policy)*100,'\\n')"
      ],
      "execution_count": null,
      "outputs": [
        {
          "output_type": "stream",
          "text": [
            "Response \n",
            " 0    76.104884\n",
            "1    23.895116\n",
            "Name: Response, dtype: float64 \n",
            "\n"
          ],
          "name": "stdout"
        }
      ]
    },
    {
      "cell_type": "code",
      "metadata": {
        "id": "VbMUU0JKfCk2"
      },
      "source": [
        "train_health = train[train['Health Indicator'].isin(['X1','X2','X3','X3','X4','X5','X6','X7','X8','X9'])]\r\n",
        "train_no_health = train[train['Health Indicator'].isna()]"
      ],
      "execution_count": null,
      "outputs": []
    },
    {
      "cell_type": "code",
      "metadata": {
        "colab": {
          "base_uri": "https://localhost:8080/",
          "height": 233
        },
        "id": "DTLUTTzpz4L4",
        "outputId": "ac23bcb4-0e66-4b27-a771-2bda3282e109"
      },
      "source": [
        "train_health.head()"
      ],
      "execution_count": null,
      "outputs": [
        {
          "output_type": "execute_result",
          "data": {
            "text/html": [
              "<div>\n",
              "<style scoped>\n",
              "    .dataframe tbody tr th:only-of-type {\n",
              "        vertical-align: middle;\n",
              "    }\n",
              "\n",
              "    .dataframe tbody tr th {\n",
              "        vertical-align: top;\n",
              "    }\n",
              "\n",
              "    .dataframe thead th {\n",
              "        text-align: right;\n",
              "    }\n",
              "</style>\n",
              "<table border=\"1\" class=\"dataframe\">\n",
              "  <thead>\n",
              "    <tr style=\"text-align: right;\">\n",
              "      <th></th>\n",
              "      <th>ID</th>\n",
              "      <th>City_Code</th>\n",
              "      <th>Region_Code</th>\n",
              "      <th>Accomodation_Type</th>\n",
              "      <th>Reco_Insurance_Type</th>\n",
              "      <th>Upper_Age</th>\n",
              "      <th>Lower_Age</th>\n",
              "      <th>Is_Spouse</th>\n",
              "      <th>Health Indicator</th>\n",
              "      <th>Holding_Policy_Duration</th>\n",
              "      <th>Holding_Policy_Type</th>\n",
              "      <th>Reco_Policy_Cat</th>\n",
              "      <th>Reco_Policy_Premium</th>\n",
              "      <th>Response</th>\n",
              "    </tr>\n",
              "  </thead>\n",
              "  <tbody>\n",
              "    <tr>\n",
              "      <th>0</th>\n",
              "      <td>1</td>\n",
              "      <td>C3</td>\n",
              "      <td>3213</td>\n",
              "      <td>Rented</td>\n",
              "      <td>Individual</td>\n",
              "      <td>36</td>\n",
              "      <td>36</td>\n",
              "      <td>No</td>\n",
              "      <td>X1</td>\n",
              "      <td>14+</td>\n",
              "      <td>3.0</td>\n",
              "      <td>22</td>\n",
              "      <td>11628.0</td>\n",
              "      <td>0</td>\n",
              "    </tr>\n",
              "    <tr>\n",
              "      <th>1</th>\n",
              "      <td>2</td>\n",
              "      <td>C5</td>\n",
              "      <td>1117</td>\n",
              "      <td>Owned</td>\n",
              "      <td>Joint</td>\n",
              "      <td>75</td>\n",
              "      <td>22</td>\n",
              "      <td>No</td>\n",
              "      <td>X2</td>\n",
              "      <td>NaN</td>\n",
              "      <td>NaN</td>\n",
              "      <td>22</td>\n",
              "      <td>30510.0</td>\n",
              "      <td>0</td>\n",
              "    </tr>\n",
              "    <tr>\n",
              "      <th>3</th>\n",
              "      <td>4</td>\n",
              "      <td>C24</td>\n",
              "      <td>4378</td>\n",
              "      <td>Owned</td>\n",
              "      <td>Joint</td>\n",
              "      <td>52</td>\n",
              "      <td>48</td>\n",
              "      <td>No</td>\n",
              "      <td>X1</td>\n",
              "      <td>14+</td>\n",
              "      <td>3.0</td>\n",
              "      <td>19</td>\n",
              "      <td>17780.0</td>\n",
              "      <td>0</td>\n",
              "    </tr>\n",
              "    <tr>\n",
              "      <th>4</th>\n",
              "      <td>5</td>\n",
              "      <td>C8</td>\n",
              "      <td>2190</td>\n",
              "      <td>Rented</td>\n",
              "      <td>Individual</td>\n",
              "      <td>44</td>\n",
              "      <td>44</td>\n",
              "      <td>No</td>\n",
              "      <td>X2</td>\n",
              "      <td>3.0</td>\n",
              "      <td>1.0</td>\n",
              "      <td>16</td>\n",
              "      <td>10404.0</td>\n",
              "      <td>0</td>\n",
              "    </tr>\n",
              "    <tr>\n",
              "      <th>5</th>\n",
              "      <td>6</td>\n",
              "      <td>C9</td>\n",
              "      <td>1785</td>\n",
              "      <td>Rented</td>\n",
              "      <td>Individual</td>\n",
              "      <td>52</td>\n",
              "      <td>52</td>\n",
              "      <td>No</td>\n",
              "      <td>X2</td>\n",
              "      <td>5.0</td>\n",
              "      <td>1.0</td>\n",
              "      <td>22</td>\n",
              "      <td>15264.0</td>\n",
              "      <td>1</td>\n",
              "    </tr>\n",
              "  </tbody>\n",
              "</table>\n",
              "</div>"
            ],
            "text/plain": [
              "   ID City_Code  Region_Code  ... Reco_Policy_Cat Reco_Policy_Premium  Response\n",
              "0   1        C3         3213  ...              22             11628.0         0\n",
              "1   2        C5         1117  ...              22             30510.0         0\n",
              "3   4       C24         4378  ...              19             17780.0         0\n",
              "4   5        C8         2190  ...              16             10404.0         0\n",
              "5   6        C9         1785  ...              22             15264.0         1\n",
              "\n",
              "[5 rows x 14 columns]"
            ]
          },
          "metadata": {
            "tags": []
          },
          "execution_count": 20
        }
      ]
    },
    {
      "cell_type": "code",
      "metadata": {
        "colab": {
          "base_uri": "https://localhost:8080/",
          "height": 233
        },
        "id": "rPyM4C80z5sD",
        "outputId": "e032d563-ea19-4502-a6ab-3fe74fee89c9"
      },
      "source": [
        "train_no_health.head()"
      ],
      "execution_count": null,
      "outputs": [
        {
          "output_type": "execute_result",
          "data": {
            "text/html": [
              "<div>\n",
              "<style scoped>\n",
              "    .dataframe tbody tr th:only-of-type {\n",
              "        vertical-align: middle;\n",
              "    }\n",
              "\n",
              "    .dataframe tbody tr th {\n",
              "        vertical-align: top;\n",
              "    }\n",
              "\n",
              "    .dataframe thead th {\n",
              "        text-align: right;\n",
              "    }\n",
              "</style>\n",
              "<table border=\"1\" class=\"dataframe\">\n",
              "  <thead>\n",
              "    <tr style=\"text-align: right;\">\n",
              "      <th></th>\n",
              "      <th>ID</th>\n",
              "      <th>City_Code</th>\n",
              "      <th>Region_Code</th>\n",
              "      <th>Accomodation_Type</th>\n",
              "      <th>Reco_Insurance_Type</th>\n",
              "      <th>Upper_Age</th>\n",
              "      <th>Lower_Age</th>\n",
              "      <th>Is_Spouse</th>\n",
              "      <th>Health Indicator</th>\n",
              "      <th>Holding_Policy_Duration</th>\n",
              "      <th>Holding_Policy_Type</th>\n",
              "      <th>Reco_Policy_Cat</th>\n",
              "      <th>Reco_Policy_Premium</th>\n",
              "      <th>Response</th>\n",
              "    </tr>\n",
              "  </thead>\n",
              "  <tbody>\n",
              "    <tr>\n",
              "      <th>2</th>\n",
              "      <td>3</td>\n",
              "      <td>C5</td>\n",
              "      <td>3732</td>\n",
              "      <td>Owned</td>\n",
              "      <td>Individual</td>\n",
              "      <td>32</td>\n",
              "      <td>32</td>\n",
              "      <td>No</td>\n",
              "      <td>NaN</td>\n",
              "      <td>1.0</td>\n",
              "      <td>1.0</td>\n",
              "      <td>19</td>\n",
              "      <td>7450.0</td>\n",
              "      <td>1</td>\n",
              "    </tr>\n",
              "    <tr>\n",
              "      <th>6</th>\n",
              "      <td>7</td>\n",
              "      <td>C3</td>\n",
              "      <td>679</td>\n",
              "      <td>Owned</td>\n",
              "      <td>Individual</td>\n",
              "      <td>28</td>\n",
              "      <td>28</td>\n",
              "      <td>No</td>\n",
              "      <td>NaN</td>\n",
              "      <td>NaN</td>\n",
              "      <td>NaN</td>\n",
              "      <td>17</td>\n",
              "      <td>10640.0</td>\n",
              "      <td>0</td>\n",
              "    </tr>\n",
              "    <tr>\n",
              "      <th>9</th>\n",
              "      <td>10</td>\n",
              "      <td>C1</td>\n",
              "      <td>530</td>\n",
              "      <td>Owned</td>\n",
              "      <td>Joint</td>\n",
              "      <td>59</td>\n",
              "      <td>26</td>\n",
              "      <td>Yes</td>\n",
              "      <td>NaN</td>\n",
              "      <td>7.0</td>\n",
              "      <td>4.0</td>\n",
              "      <td>18</td>\n",
              "      <td>21100.8</td>\n",
              "      <td>1</td>\n",
              "    </tr>\n",
              "    <tr>\n",
              "      <th>12</th>\n",
              "      <td>13</td>\n",
              "      <td>C7</td>\n",
              "      <td>3453</td>\n",
              "      <td>Owned</td>\n",
              "      <td>Individual</td>\n",
              "      <td>66</td>\n",
              "      <td>66</td>\n",
              "      <td>No</td>\n",
              "      <td>NaN</td>\n",
              "      <td>1.0</td>\n",
              "      <td>2.0</td>\n",
              "      <td>20</td>\n",
              "      <td>17192.0</td>\n",
              "      <td>1</td>\n",
              "    </tr>\n",
              "    <tr>\n",
              "      <th>19</th>\n",
              "      <td>20</td>\n",
              "      <td>C20</td>\n",
              "      <td>973</td>\n",
              "      <td>Owned</td>\n",
              "      <td>Individual</td>\n",
              "      <td>27</td>\n",
              "      <td>27</td>\n",
              "      <td>No</td>\n",
              "      <td>NaN</td>\n",
              "      <td>NaN</td>\n",
              "      <td>NaN</td>\n",
              "      <td>4</td>\n",
              "      <td>8050.0</td>\n",
              "      <td>0</td>\n",
              "    </tr>\n",
              "  </tbody>\n",
              "</table>\n",
              "</div>"
            ],
            "text/plain": [
              "    ID City_Code  Region_Code  ... Reco_Policy_Cat Reco_Policy_Premium  Response\n",
              "2    3        C5         3732  ...              19              7450.0         1\n",
              "6    7        C3          679  ...              17             10640.0         0\n",
              "9   10        C1          530  ...              18             21100.8         1\n",
              "12  13        C7         3453  ...              20             17192.0         1\n",
              "19  20       C20          973  ...               4              8050.0         0\n",
              "\n",
              "[5 rows x 14 columns]"
            ]
          },
          "metadata": {
            "tags": []
          },
          "execution_count": 21
        }
      ]
    },
    {
      "cell_type": "code",
      "metadata": {
        "colab": {
          "base_uri": "https://localhost:8080/"
        },
        "id": "x4usESUaz7bl",
        "outputId": "a4891a9d-47ce-4969-9d5f-3a204adc5e69"
      },
      "source": [
        "print(train.shape,train_health.shape,train_no_health.shape)"
      ],
      "execution_count": null,
      "outputs": [
        {
          "output_type": "stream",
          "text": [
            "(50882, 14) (39191, 14) (11691, 14)\n"
          ],
          "name": "stdout"
        }
      ]
    },
    {
      "cell_type": "code",
      "metadata": {
        "colab": {
          "base_uri": "https://localhost:8080/"
        },
        "id": "xmhHoGMK0AhE",
        "outputId": "4d53d78a-ec3f-43dc-b55a-a1a62baccb5e"
      },
      "source": [
        "print('Response','\\n',train_health['Response'].value_counts()/len(train_health)*100,'\\n')\r\n",
        "print('Response','\\n',train_no_health['Response'].value_counts()/len(train_no_health)*100,'\\n')"
      ],
      "execution_count": null,
      "outputs": [
        {
          "output_type": "stream",
          "text": [
            "Response \n",
            " 0    75.833737\n",
            "1    24.166263\n",
            "Name: Response, dtype: float64 \n",
            "\n",
            "Response \n",
            " 0    76.580275\n",
            "1    23.419725\n",
            "Name: Response, dtype: float64 \n",
            "\n"
          ],
          "name": "stdout"
        }
      ]
    },
    {
      "cell_type": "markdown",
      "metadata": {
        "id": "A2Vgp94W0rq8"
      },
      "source": [
        "Two types of accomodation \r\n",
        ">rented and owned \r\n",
        "\r\n",
        "Two types of Recommended insurance  \r\n",
        ">individual and joint\r\n",
        "\r\n",
        "Upper Age and Lower Age (only for joint)\r\n",
        ">Incase of joint they are different else same \r\n",
        "\r\n",
        "If the customers are married to each other \r\n",
        ">Yes or no (only for joint)\r\n",
        "\r\n",
        "Health Indicator   \r\n",
        ">lot of null, 9 categories \r\n",
        "\r\n",
        "Holding_Policy_Duration  \r\n",
        ">15 categories (1,2,3,..14,14+ years), lot of null\r\n",
        "> null maybe because they have no holding policy \r\n",
        "\r\n",
        "Holding_Policy_Type \r\n",
        ">should be categorical,datatype error\r\n",
        "> null maybe because they have no holding policy\r\n",
        "\r\n",
        "Reco_Policy_Cat\r\n",
        "> 22 categories\r\n",
        "\r\n",
        "Reco_Policy_Premium\r\n",
        ">integer amount \r\n",
        "\r\n",
        "Response \r\n",
        ">very imbalanced "
      ]
    },
    {
      "cell_type": "code",
      "metadata": {
        "colab": {
          "base_uri": "https://localhost:8080/"
        },
        "id": "YuUsZwRS0tLr",
        "outputId": "dcb70876-3ad7-4b50-ef5d-b965230fd992"
      },
      "source": [
        "train.info()"
      ],
      "execution_count": null,
      "outputs": [
        {
          "output_type": "stream",
          "text": [
            "<class 'pandas.core.frame.DataFrame'>\n",
            "RangeIndex: 50882 entries, 0 to 50881\n",
            "Data columns (total 14 columns):\n",
            " #   Column                   Non-Null Count  Dtype  \n",
            "---  ------                   --------------  -----  \n",
            " 0   ID                       50882 non-null  int64  \n",
            " 1   City_Code                50882 non-null  object \n",
            " 2   Region_Code              50882 non-null  int64  \n",
            " 3   Accomodation_Type        50882 non-null  object \n",
            " 4   Reco_Insurance_Type      50882 non-null  object \n",
            " 5   Upper_Age                50882 non-null  int64  \n",
            " 6   Lower_Age                50882 non-null  int64  \n",
            " 7   Is_Spouse                50882 non-null  object \n",
            " 8   Health Indicator         39191 non-null  object \n",
            " 9   Holding_Policy_Duration  30631 non-null  object \n",
            " 10  Holding_Policy_Type      30631 non-null  float64\n",
            " 11  Reco_Policy_Cat          50882 non-null  int64  \n",
            " 12  Reco_Policy_Premium      50882 non-null  float64\n",
            " 13  Response                 50882 non-null  int64  \n",
            "dtypes: float64(2), int64(6), object(6)\n",
            "memory usage: 5.4+ MB\n"
          ],
          "name": "stdout"
        }
      ]
    },
    {
      "cell_type": "markdown",
      "metadata": {
        "id": "LLcq3wTa1mTy"
      },
      "source": [
        "Replacing na with 0 for policy"
      ]
    },
    {
      "cell_type": "code",
      "metadata": {
        "id": "wU6nKqEZ0S1L"
      },
      "source": [
        "train['Holding_Policy_Duration'].fillna(0, inplace=True)\r\n",
        "train['Holding_Policy_Type'].fillna(0, inplace=True)"
      ],
      "execution_count": null,
      "outputs": []
    },
    {
      "cell_type": "code",
      "metadata": {
        "colab": {
          "base_uri": "https://localhost:8080/",
          "height": 233
        },
        "id": "R8CBWVWX1Hzo",
        "outputId": "57738ae3-45c5-4f79-a94d-aa32c1ae40c0"
      },
      "source": [
        "train.head()"
      ],
      "execution_count": null,
      "outputs": [
        {
          "output_type": "execute_result",
          "data": {
            "text/html": [
              "<div>\n",
              "<style scoped>\n",
              "    .dataframe tbody tr th:only-of-type {\n",
              "        vertical-align: middle;\n",
              "    }\n",
              "\n",
              "    .dataframe tbody tr th {\n",
              "        vertical-align: top;\n",
              "    }\n",
              "\n",
              "    .dataframe thead th {\n",
              "        text-align: right;\n",
              "    }\n",
              "</style>\n",
              "<table border=\"1\" class=\"dataframe\">\n",
              "  <thead>\n",
              "    <tr style=\"text-align: right;\">\n",
              "      <th></th>\n",
              "      <th>ID</th>\n",
              "      <th>City_Code</th>\n",
              "      <th>Region_Code</th>\n",
              "      <th>Accomodation_Type</th>\n",
              "      <th>Reco_Insurance_Type</th>\n",
              "      <th>Upper_Age</th>\n",
              "      <th>Lower_Age</th>\n",
              "      <th>Is_Spouse</th>\n",
              "      <th>Health Indicator</th>\n",
              "      <th>Holding_Policy_Duration</th>\n",
              "      <th>Holding_Policy_Type</th>\n",
              "      <th>Reco_Policy_Cat</th>\n",
              "      <th>Reco_Policy_Premium</th>\n",
              "      <th>Response</th>\n",
              "    </tr>\n",
              "  </thead>\n",
              "  <tbody>\n",
              "    <tr>\n",
              "      <th>0</th>\n",
              "      <td>1</td>\n",
              "      <td>C3</td>\n",
              "      <td>3213</td>\n",
              "      <td>Rented</td>\n",
              "      <td>Individual</td>\n",
              "      <td>36</td>\n",
              "      <td>36</td>\n",
              "      <td>No</td>\n",
              "      <td>X1</td>\n",
              "      <td>14+</td>\n",
              "      <td>3.0</td>\n",
              "      <td>22</td>\n",
              "      <td>11628.0</td>\n",
              "      <td>0</td>\n",
              "    </tr>\n",
              "    <tr>\n",
              "      <th>1</th>\n",
              "      <td>2</td>\n",
              "      <td>C5</td>\n",
              "      <td>1117</td>\n",
              "      <td>Owned</td>\n",
              "      <td>Joint</td>\n",
              "      <td>75</td>\n",
              "      <td>22</td>\n",
              "      <td>No</td>\n",
              "      <td>X2</td>\n",
              "      <td>0</td>\n",
              "      <td>0.0</td>\n",
              "      <td>22</td>\n",
              "      <td>30510.0</td>\n",
              "      <td>0</td>\n",
              "    </tr>\n",
              "    <tr>\n",
              "      <th>2</th>\n",
              "      <td>3</td>\n",
              "      <td>C5</td>\n",
              "      <td>3732</td>\n",
              "      <td>Owned</td>\n",
              "      <td>Individual</td>\n",
              "      <td>32</td>\n",
              "      <td>32</td>\n",
              "      <td>No</td>\n",
              "      <td>NaN</td>\n",
              "      <td>1.0</td>\n",
              "      <td>1.0</td>\n",
              "      <td>19</td>\n",
              "      <td>7450.0</td>\n",
              "      <td>1</td>\n",
              "    </tr>\n",
              "    <tr>\n",
              "      <th>3</th>\n",
              "      <td>4</td>\n",
              "      <td>C24</td>\n",
              "      <td>4378</td>\n",
              "      <td>Owned</td>\n",
              "      <td>Joint</td>\n",
              "      <td>52</td>\n",
              "      <td>48</td>\n",
              "      <td>No</td>\n",
              "      <td>X1</td>\n",
              "      <td>14+</td>\n",
              "      <td>3.0</td>\n",
              "      <td>19</td>\n",
              "      <td>17780.0</td>\n",
              "      <td>0</td>\n",
              "    </tr>\n",
              "    <tr>\n",
              "      <th>4</th>\n",
              "      <td>5</td>\n",
              "      <td>C8</td>\n",
              "      <td>2190</td>\n",
              "      <td>Rented</td>\n",
              "      <td>Individual</td>\n",
              "      <td>44</td>\n",
              "      <td>44</td>\n",
              "      <td>No</td>\n",
              "      <td>X2</td>\n",
              "      <td>3.0</td>\n",
              "      <td>1.0</td>\n",
              "      <td>16</td>\n",
              "      <td>10404.0</td>\n",
              "      <td>0</td>\n",
              "    </tr>\n",
              "  </tbody>\n",
              "</table>\n",
              "</div>"
            ],
            "text/plain": [
              "   ID City_Code  Region_Code  ... Reco_Policy_Cat Reco_Policy_Premium  Response\n",
              "0   1        C3         3213  ...              22             11628.0         0\n",
              "1   2        C5         1117  ...              22             30510.0         0\n",
              "2   3        C5         3732  ...              19              7450.0         1\n",
              "3   4       C24         4378  ...              19             17780.0         0\n",
              "4   5        C8         2190  ...              16             10404.0         0\n",
              "\n",
              "[5 rows x 14 columns]"
            ]
          },
          "metadata": {
            "tags": []
          },
          "execution_count": 26
        }
      ]
    },
    {
      "cell_type": "code",
      "metadata": {
        "colab": {
          "base_uri": "https://localhost:8080/",
          "height": 233
        },
        "id": "oj5ha3xY2Ldw",
        "outputId": "c1664f22-39a9-482d-fdc5-6595c48d76c1"
      },
      "source": [
        "test.head()"
      ],
      "execution_count": null,
      "outputs": [
        {
          "output_type": "execute_result",
          "data": {
            "text/html": [
              "<div>\n",
              "<style scoped>\n",
              "    .dataframe tbody tr th:only-of-type {\n",
              "        vertical-align: middle;\n",
              "    }\n",
              "\n",
              "    .dataframe tbody tr th {\n",
              "        vertical-align: top;\n",
              "    }\n",
              "\n",
              "    .dataframe thead th {\n",
              "        text-align: right;\n",
              "    }\n",
              "</style>\n",
              "<table border=\"1\" class=\"dataframe\">\n",
              "  <thead>\n",
              "    <tr style=\"text-align: right;\">\n",
              "      <th></th>\n",
              "      <th>ID</th>\n",
              "      <th>City_Code</th>\n",
              "      <th>Region_Code</th>\n",
              "      <th>Accomodation_Type</th>\n",
              "      <th>Reco_Insurance_Type</th>\n",
              "      <th>Upper_Age</th>\n",
              "      <th>Lower_Age</th>\n",
              "      <th>Is_Spouse</th>\n",
              "      <th>Health Indicator</th>\n",
              "      <th>Holding_Policy_Duration</th>\n",
              "      <th>Holding_Policy_Type</th>\n",
              "      <th>Reco_Policy_Cat</th>\n",
              "      <th>Reco_Policy_Premium</th>\n",
              "    </tr>\n",
              "  </thead>\n",
              "  <tbody>\n",
              "    <tr>\n",
              "      <th>0</th>\n",
              "      <td>50883</td>\n",
              "      <td>C1</td>\n",
              "      <td>156</td>\n",
              "      <td>Owned</td>\n",
              "      <td>Individual</td>\n",
              "      <td>30</td>\n",
              "      <td>30</td>\n",
              "      <td>No</td>\n",
              "      <td>NaN</td>\n",
              "      <td>6.0</td>\n",
              "      <td>3.0</td>\n",
              "      <td>5</td>\n",
              "      <td>11934.0</td>\n",
              "    </tr>\n",
              "    <tr>\n",
              "      <th>1</th>\n",
              "      <td>50884</td>\n",
              "      <td>C4</td>\n",
              "      <td>7</td>\n",
              "      <td>Owned</td>\n",
              "      <td>Joint</td>\n",
              "      <td>69</td>\n",
              "      <td>68</td>\n",
              "      <td>Yes</td>\n",
              "      <td>X1</td>\n",
              "      <td>3.0</td>\n",
              "      <td>3.0</td>\n",
              "      <td>18</td>\n",
              "      <td>32204.8</td>\n",
              "    </tr>\n",
              "    <tr>\n",
              "      <th>2</th>\n",
              "      <td>50885</td>\n",
              "      <td>C1</td>\n",
              "      <td>564</td>\n",
              "      <td>Rented</td>\n",
              "      <td>Individual</td>\n",
              "      <td>28</td>\n",
              "      <td>28</td>\n",
              "      <td>No</td>\n",
              "      <td>X3</td>\n",
              "      <td>2.0</td>\n",
              "      <td>4.0</td>\n",
              "      <td>17</td>\n",
              "      <td>9240.0</td>\n",
              "    </tr>\n",
              "    <tr>\n",
              "      <th>3</th>\n",
              "      <td>50886</td>\n",
              "      <td>C3</td>\n",
              "      <td>1177</td>\n",
              "      <td>Rented</td>\n",
              "      <td>Individual</td>\n",
              "      <td>23</td>\n",
              "      <td>23</td>\n",
              "      <td>No</td>\n",
              "      <td>X3</td>\n",
              "      <td>3.0</td>\n",
              "      <td>3.0</td>\n",
              "      <td>18</td>\n",
              "      <td>9086.0</td>\n",
              "    </tr>\n",
              "    <tr>\n",
              "      <th>4</th>\n",
              "      <td>50887</td>\n",
              "      <td>C1</td>\n",
              "      <td>951</td>\n",
              "      <td>Owned</td>\n",
              "      <td>Individual</td>\n",
              "      <td>75</td>\n",
              "      <td>75</td>\n",
              "      <td>No</td>\n",
              "      <td>X3</td>\n",
              "      <td>NaN</td>\n",
              "      <td>NaN</td>\n",
              "      <td>5</td>\n",
              "      <td>22534.0</td>\n",
              "    </tr>\n",
              "  </tbody>\n",
              "</table>\n",
              "</div>"
            ],
            "text/plain": [
              "      ID City_Code  ...  Reco_Policy_Cat Reco_Policy_Premium\n",
              "0  50883        C1  ...                5             11934.0\n",
              "1  50884        C4  ...               18             32204.8\n",
              "2  50885        C1  ...               17              9240.0\n",
              "3  50886        C3  ...               18              9086.0\n",
              "4  50887        C1  ...                5             22534.0\n",
              "\n",
              "[5 rows x 13 columns]"
            ]
          },
          "metadata": {
            "tags": []
          },
          "execution_count": 27
        }
      ]
    },
    {
      "cell_type": "code",
      "metadata": {
        "colab": {
          "base_uri": "https://localhost:8080/"
        },
        "id": "aCs0TkAB1JG9",
        "outputId": "8aa66e07-47b5-4391-db12-b1d8bcf2effc"
      },
      "source": [
        "train.isnull().sum(axis = 0)/len(train)*100"
      ],
      "execution_count": null,
      "outputs": [
        {
          "output_type": "execute_result",
          "data": {
            "text/plain": [
              "ID                          0.000000\n",
              "City_Code                   0.000000\n",
              "Region_Code                 0.000000\n",
              "Accomodation_Type           0.000000\n",
              "Reco_Insurance_Type         0.000000\n",
              "Upper_Age                   0.000000\n",
              "Lower_Age                   0.000000\n",
              "Is_Spouse                   0.000000\n",
              "Health Indicator           22.976691\n",
              "Holding_Policy_Duration     0.000000\n",
              "Holding_Policy_Type         0.000000\n",
              "Reco_Policy_Cat             0.000000\n",
              "Reco_Policy_Premium         0.000000\n",
              "Response                    0.000000\n",
              "dtype: float64"
            ]
          },
          "metadata": {
            "tags": []
          },
          "execution_count": 28
        }
      ]
    },
    {
      "cell_type": "markdown",
      "metadata": {
        "id": "OrFv-Eor1qg3"
      },
      "source": [
        "Replacing na for health indicator "
      ]
    },
    {
      "cell_type": "code",
      "metadata": {
        "id": "2LMdsVtE1s20"
      },
      "source": [
        "def draw_boxplot_numerical_categorical_cols(df, numerical_col, categorical_col):\r\n",
        "    categories = []\r\n",
        "    for category in df[categorical_col].unique():\r\n",
        "        categories.append({\r\n",
        "                'categorical_col': category,\r\n",
        "                'numerical_col': df[df[categorical_col] == category][numerical_col]})\r\n",
        "        \r\n",
        "    \r\n",
        "    plt.figure(figsize=(10, 8))\r\n",
        "    plt.boxplot([e['numerical_col'] for e in categories], labels=[e['categorical_col'] for e in categories]);\r\n",
        "# draw_boxplot_numerical_categorical_cols(train_health,'Lower_Age','Health Indicator')"
      ],
      "execution_count": null,
      "outputs": []
    },
    {
      "cell_type": "code",
      "metadata": {
        "id": "79U1JhNk5P5L"
      },
      "source": [
        "# X1 = train.loc[train['Health Indicator'] == 'X1']\r\n",
        "# X2 = train.loc[train['Health Indicator'] == 'X2']\r\n",
        "# X3 = train.loc[train['Health Indicator'] == 'X3']\r\n",
        "# X4 = train.loc[train['Health Indicator'] == 'X4']\r\n",
        "# X5 = train.loc[train['Health Indicator'] == 'X5']\r\n",
        "# X6 = train.loc[train['Health Indicator'] == 'X6']\r\n",
        "# X7 = train.loc[train['Health Indicator'] == 'X7']\r\n",
        "# X8 = train.loc[train['Health Indicator'] == 'X8']\r\n",
        "# X9 = train.loc[train['Health Indicator'] == 'X9']\r\n",
        "# X1.describe()\r\n",
        "# X2.describe()\r\n",
        "# X3.describe()"
      ],
      "execution_count": null,
      "outputs": []
    },
    {
      "cell_type": "code",
      "metadata": {
        "colab": {
          "base_uri": "https://localhost:8080/"
        },
        "id": "eRVNQxQuVuAl",
        "outputId": "1c6510ef-e78f-46c1-b920-461554387588"
      },
      "source": [
        "train.isnull().sum(axis = 0)/len(train)*100"
      ],
      "execution_count": null,
      "outputs": [
        {
          "output_type": "execute_result",
          "data": {
            "text/plain": [
              "ID                          0.000000\n",
              "City_Code                   0.000000\n",
              "Region_Code                 0.000000\n",
              "Accomodation_Type           0.000000\n",
              "Reco_Insurance_Type         0.000000\n",
              "Upper_Age                   0.000000\n",
              "Lower_Age                   0.000000\n",
              "Is_Spouse                   0.000000\n",
              "Health Indicator           22.976691\n",
              "Holding_Policy_Duration     0.000000\n",
              "Holding_Policy_Type         0.000000\n",
              "Reco_Policy_Cat             0.000000\n",
              "Reco_Policy_Premium         0.000000\n",
              "Response                    0.000000\n",
              "dtype: float64"
            ]
          },
          "metadata": {
            "tags": []
          },
          "execution_count": 31
        }
      ]
    },
    {
      "cell_type": "code",
      "metadata": {
        "colab": {
          "base_uri": "https://localhost:8080/"
        },
        "id": "QkjjDIXmU-qA",
        "outputId": "d73fc9b7-ef3a-401a-f2c4-450385dd49b0"
      },
      "source": [
        "train = train.fillna(train.groupby(['Lower_Age']).transform(pd.Series.mode))\r\n",
        "train.isnull().sum(axis = 0)/len(train)*100"
      ],
      "execution_count": null,
      "outputs": [
        {
          "output_type": "execute_result",
          "data": {
            "text/plain": [
              "ID                          0.000000\n",
              "City_Code                   0.000000\n",
              "Region_Code                 0.000000\n",
              "Accomodation_Type           0.000000\n",
              "Reco_Insurance_Type         0.000000\n",
              "Upper_Age                   0.000000\n",
              "Lower_Age                   0.000000\n",
              "Is_Spouse                   0.000000\n",
              "Health Indicator           22.953107\n",
              "Holding_Policy_Duration     0.000000\n",
              "Holding_Policy_Type         0.000000\n",
              "Reco_Policy_Cat             0.000000\n",
              "Reco_Policy_Premium         0.000000\n",
              "Response                    0.000000\n",
              "dtype: float64"
            ]
          },
          "metadata": {
            "tags": []
          },
          "execution_count": 32
        }
      ]
    },
    {
      "cell_type": "code",
      "metadata": {
        "colab": {
          "base_uri": "https://localhost:8080/"
        },
        "id": "uJCZqxUBW3MO",
        "outputId": "67370a47-cfa9-4eaf-8ccb-73b2232f32bb"
      },
      "source": [
        "train = train.fillna(train.groupby(['Upper_Age']).transform(pd.Series.mode))\r\n",
        "train.isnull().sum(axis = 0)/len(train)*100"
      ],
      "execution_count": null,
      "outputs": [
        {
          "output_type": "execute_result",
          "data": {
            "text/plain": [
              "ID                          0.000000\n",
              "City_Code                   0.000000\n",
              "Region_Code                 0.000000\n",
              "Accomodation_Type           0.000000\n",
              "Reco_Insurance_Type         0.000000\n",
              "Upper_Age                   0.000000\n",
              "Lower_Age                   0.000000\n",
              "Is_Spouse                   0.000000\n",
              "Health Indicator           22.949177\n",
              "Holding_Policy_Duration     0.000000\n",
              "Holding_Policy_Type         0.000000\n",
              "Reco_Policy_Cat             0.000000\n",
              "Reco_Policy_Premium         0.000000\n",
              "Response                    0.000000\n",
              "dtype: float64"
            ]
          },
          "metadata": {
            "tags": []
          },
          "execution_count": 33
        }
      ]
    },
    {
      "cell_type": "code",
      "metadata": {
        "colab": {
          "base_uri": "https://localhost:8080/",
          "height": 306
        },
        "id": "XLznc6urm2DF",
        "outputId": "bf8ccda5-0f39-4a6e-f8c5-828ba640f466"
      },
      "source": [
        "train.describe()"
      ],
      "execution_count": null,
      "outputs": [
        {
          "output_type": "execute_result",
          "data": {
            "text/html": [
              "<div>\n",
              "<style scoped>\n",
              "    .dataframe tbody tr th:only-of-type {\n",
              "        vertical-align: middle;\n",
              "    }\n",
              "\n",
              "    .dataframe tbody tr th {\n",
              "        vertical-align: top;\n",
              "    }\n",
              "\n",
              "    .dataframe thead th {\n",
              "        text-align: right;\n",
              "    }\n",
              "</style>\n",
              "<table border=\"1\" class=\"dataframe\">\n",
              "  <thead>\n",
              "    <tr style=\"text-align: right;\">\n",
              "      <th></th>\n",
              "      <th>ID</th>\n",
              "      <th>Region_Code</th>\n",
              "      <th>Upper_Age</th>\n",
              "      <th>Lower_Age</th>\n",
              "      <th>Holding_Policy_Type</th>\n",
              "      <th>Reco_Policy_Cat</th>\n",
              "      <th>Reco_Policy_Premium</th>\n",
              "      <th>Response</th>\n",
              "    </tr>\n",
              "  </thead>\n",
              "  <tbody>\n",
              "    <tr>\n",
              "      <th>count</th>\n",
              "      <td>50882.000000</td>\n",
              "      <td>50882.000000</td>\n",
              "      <td>50882.000000</td>\n",
              "      <td>50882.000000</td>\n",
              "      <td>50882.000000</td>\n",
              "      <td>50882.000000</td>\n",
              "      <td>50882.000000</td>\n",
              "      <td>50882.000000</td>\n",
              "    </tr>\n",
              "    <tr>\n",
              "      <th>mean</th>\n",
              "      <td>25441.500000</td>\n",
              "      <td>1732.788707</td>\n",
              "      <td>44.856275</td>\n",
              "      <td>42.738866</td>\n",
              "      <td>1.468417</td>\n",
              "      <td>15.115188</td>\n",
              "      <td>14183.950069</td>\n",
              "      <td>0.239947</td>\n",
              "    </tr>\n",
              "    <tr>\n",
              "      <th>std</th>\n",
              "      <td>14688.512535</td>\n",
              "      <td>1424.081652</td>\n",
              "      <td>17.310271</td>\n",
              "      <td>17.319375</td>\n",
              "      <td>1.434988</td>\n",
              "      <td>6.340663</td>\n",
              "      <td>6590.074873</td>\n",
              "      <td>0.427055</td>\n",
              "    </tr>\n",
              "    <tr>\n",
              "      <th>min</th>\n",
              "      <td>1.000000</td>\n",
              "      <td>1.000000</td>\n",
              "      <td>18.000000</td>\n",
              "      <td>16.000000</td>\n",
              "      <td>0.000000</td>\n",
              "      <td>1.000000</td>\n",
              "      <td>2280.000000</td>\n",
              "      <td>0.000000</td>\n",
              "    </tr>\n",
              "    <tr>\n",
              "      <th>25%</th>\n",
              "      <td>12721.250000</td>\n",
              "      <td>523.000000</td>\n",
              "      <td>28.000000</td>\n",
              "      <td>27.000000</td>\n",
              "      <td>0.000000</td>\n",
              "      <td>12.000000</td>\n",
              "      <td>9248.000000</td>\n",
              "      <td>0.000000</td>\n",
              "    </tr>\n",
              "    <tr>\n",
              "      <th>50%</th>\n",
              "      <td>25441.500000</td>\n",
              "      <td>1391.000000</td>\n",
              "      <td>44.000000</td>\n",
              "      <td>40.000000</td>\n",
              "      <td>1.000000</td>\n",
              "      <td>17.000000</td>\n",
              "      <td>13178.000000</td>\n",
              "      <td>0.000000</td>\n",
              "    </tr>\n",
              "    <tr>\n",
              "      <th>75%</th>\n",
              "      <td>38161.750000</td>\n",
              "      <td>2667.000000</td>\n",
              "      <td>59.000000</td>\n",
              "      <td>57.000000</td>\n",
              "      <td>3.000000</td>\n",
              "      <td>20.000000</td>\n",
              "      <td>18096.000000</td>\n",
              "      <td>0.000000</td>\n",
              "    </tr>\n",
              "    <tr>\n",
              "      <th>max</th>\n",
              "      <td>50882.000000</td>\n",
              "      <td>6194.000000</td>\n",
              "      <td>75.000000</td>\n",
              "      <td>75.000000</td>\n",
              "      <td>4.000000</td>\n",
              "      <td>22.000000</td>\n",
              "      <td>43350.400000</td>\n",
              "      <td>1.000000</td>\n",
              "    </tr>\n",
              "  </tbody>\n",
              "</table>\n",
              "</div>"
            ],
            "text/plain": [
              "                 ID   Region_Code  ...  Reco_Policy_Premium      Response\n",
              "count  50882.000000  50882.000000  ...         50882.000000  50882.000000\n",
              "mean   25441.500000   1732.788707  ...         14183.950069      0.239947\n",
              "std    14688.512535   1424.081652  ...          6590.074873      0.427055\n",
              "min        1.000000      1.000000  ...          2280.000000      0.000000\n",
              "25%    12721.250000    523.000000  ...          9248.000000      0.000000\n",
              "50%    25441.500000   1391.000000  ...         13178.000000      0.000000\n",
              "75%    38161.750000   2667.000000  ...         18096.000000      0.000000\n",
              "max    50882.000000   6194.000000  ...         43350.400000      1.000000\n",
              "\n",
              "[8 rows x 8 columns]"
            ]
          },
          "metadata": {
            "tags": []
          },
          "execution_count": 34
        }
      ]
    },
    {
      "cell_type": "markdown",
      "metadata": {
        "id": "3o3-6DGSo1I-"
      },
      "source": [
        "Check if different age then whats health indicator "
      ]
    },
    {
      "cell_type": "code",
      "metadata": {
        "id": "jMy9IvrkaTd-"
      },
      "source": [
        "# bins = [18, 30, 40, 50, 60, 70, 120]\r\n",
        "# labels = ['18-29', '30-39', '40-49', '50-59', '60-69', '70+']\r\n",
        "# ages['agerange'] = pd.cut(ages.age, bins, labels = labels,include_lowest = True)"
      ],
      "execution_count": null,
      "outputs": []
    },
    {
      "cell_type": "code",
      "metadata": {
        "colab": {
          "base_uri": "https://localhost:8080/"
        },
        "id": "4_yGrYj8otaS",
        "outputId": "1e56f7ce-27fd-445e-981f-978c53594b68"
      },
      "source": [
        "train['Health Indicator'] = train['Health Indicator'].fillna(train['Health Indicator'].mode()[0])\r\n",
        "train.isnull().sum(axis = 0)/len(train)*100"
      ],
      "execution_count": null,
      "outputs": [
        {
          "output_type": "execute_result",
          "data": {
            "text/plain": [
              "ID                         0.0\n",
              "City_Code                  0.0\n",
              "Region_Code                0.0\n",
              "Accomodation_Type          0.0\n",
              "Reco_Insurance_Type        0.0\n",
              "Upper_Age                  0.0\n",
              "Lower_Age                  0.0\n",
              "Is_Spouse                  0.0\n",
              "Health Indicator           0.0\n",
              "Holding_Policy_Duration    0.0\n",
              "Holding_Policy_Type        0.0\n",
              "Reco_Policy_Cat            0.0\n",
              "Reco_Policy_Premium        0.0\n",
              "Response                   0.0\n",
              "dtype: float64"
            ]
          },
          "metadata": {
            "tags": []
          },
          "execution_count": 36
        }
      ]
    },
    {
      "cell_type": "markdown",
      "metadata": {
        "id": "PX7bZWPV1wsG"
      },
      "source": [
        "Test data function "
      ]
    },
    {
      "cell_type": "code",
      "metadata": {
        "id": "4IIVAEEX1WU-"
      },
      "source": [
        "test['Holding_Policy_Duration'].fillna(0, inplace=True)\r\n",
        "test['Holding_Policy_Type'].fillna(0, inplace=True)"
      ],
      "execution_count": null,
      "outputs": []
    },
    {
      "cell_type": "code",
      "metadata": {
        "id": "VsZTURzqpYKV"
      },
      "source": [
        "test['Health Indicator'] = test['Health Indicator'].fillna(test['Health Indicator'].mode()[0])\r\n",
        "# test.isnull().sum(axis = 0)/len(test)*100"
      ],
      "execution_count": null,
      "outputs": []
    },
    {
      "cell_type": "code",
      "metadata": {
        "colab": {
          "base_uri": "https://localhost:8080/",
          "height": 233
        },
        "id": "JhQbsBgysAcs",
        "outputId": "35956253-05a5-49ad-d57b-0dcb34fefa82"
      },
      "source": [
        "train['Holding_Policy_Duration'].unique()\r\n",
        "train['Holding_Policy_Duration'] = train['Holding_Policy_Duration'].astype(str)\r\n",
        "train.head()"
      ],
      "execution_count": null,
      "outputs": [
        {
          "output_type": "execute_result",
          "data": {
            "text/html": [
              "<div>\n",
              "<style scoped>\n",
              "    .dataframe tbody tr th:only-of-type {\n",
              "        vertical-align: middle;\n",
              "    }\n",
              "\n",
              "    .dataframe tbody tr th {\n",
              "        vertical-align: top;\n",
              "    }\n",
              "\n",
              "    .dataframe thead th {\n",
              "        text-align: right;\n",
              "    }\n",
              "</style>\n",
              "<table border=\"1\" class=\"dataframe\">\n",
              "  <thead>\n",
              "    <tr style=\"text-align: right;\">\n",
              "      <th></th>\n",
              "      <th>ID</th>\n",
              "      <th>City_Code</th>\n",
              "      <th>Region_Code</th>\n",
              "      <th>Accomodation_Type</th>\n",
              "      <th>Reco_Insurance_Type</th>\n",
              "      <th>Upper_Age</th>\n",
              "      <th>Lower_Age</th>\n",
              "      <th>Is_Spouse</th>\n",
              "      <th>Health Indicator</th>\n",
              "      <th>Holding_Policy_Duration</th>\n",
              "      <th>Holding_Policy_Type</th>\n",
              "      <th>Reco_Policy_Cat</th>\n",
              "      <th>Reco_Policy_Premium</th>\n",
              "      <th>Response</th>\n",
              "    </tr>\n",
              "  </thead>\n",
              "  <tbody>\n",
              "    <tr>\n",
              "      <th>0</th>\n",
              "      <td>1</td>\n",
              "      <td>C3</td>\n",
              "      <td>3213</td>\n",
              "      <td>Rented</td>\n",
              "      <td>Individual</td>\n",
              "      <td>36</td>\n",
              "      <td>36</td>\n",
              "      <td>No</td>\n",
              "      <td>X1</td>\n",
              "      <td>14+</td>\n",
              "      <td>3.0</td>\n",
              "      <td>22</td>\n",
              "      <td>11628.0</td>\n",
              "      <td>0</td>\n",
              "    </tr>\n",
              "    <tr>\n",
              "      <th>1</th>\n",
              "      <td>2</td>\n",
              "      <td>C5</td>\n",
              "      <td>1117</td>\n",
              "      <td>Owned</td>\n",
              "      <td>Joint</td>\n",
              "      <td>75</td>\n",
              "      <td>22</td>\n",
              "      <td>No</td>\n",
              "      <td>X2</td>\n",
              "      <td>0</td>\n",
              "      <td>0.0</td>\n",
              "      <td>22</td>\n",
              "      <td>30510.0</td>\n",
              "      <td>0</td>\n",
              "    </tr>\n",
              "    <tr>\n",
              "      <th>2</th>\n",
              "      <td>3</td>\n",
              "      <td>C5</td>\n",
              "      <td>3732</td>\n",
              "      <td>Owned</td>\n",
              "      <td>Individual</td>\n",
              "      <td>32</td>\n",
              "      <td>32</td>\n",
              "      <td>No</td>\n",
              "      <td>X1</td>\n",
              "      <td>1.0</td>\n",
              "      <td>1.0</td>\n",
              "      <td>19</td>\n",
              "      <td>7450.0</td>\n",
              "      <td>1</td>\n",
              "    </tr>\n",
              "    <tr>\n",
              "      <th>3</th>\n",
              "      <td>4</td>\n",
              "      <td>C24</td>\n",
              "      <td>4378</td>\n",
              "      <td>Owned</td>\n",
              "      <td>Joint</td>\n",
              "      <td>52</td>\n",
              "      <td>48</td>\n",
              "      <td>No</td>\n",
              "      <td>X1</td>\n",
              "      <td>14+</td>\n",
              "      <td>3.0</td>\n",
              "      <td>19</td>\n",
              "      <td>17780.0</td>\n",
              "      <td>0</td>\n",
              "    </tr>\n",
              "    <tr>\n",
              "      <th>4</th>\n",
              "      <td>5</td>\n",
              "      <td>C8</td>\n",
              "      <td>2190</td>\n",
              "      <td>Rented</td>\n",
              "      <td>Individual</td>\n",
              "      <td>44</td>\n",
              "      <td>44</td>\n",
              "      <td>No</td>\n",
              "      <td>X2</td>\n",
              "      <td>3.0</td>\n",
              "      <td>1.0</td>\n",
              "      <td>16</td>\n",
              "      <td>10404.0</td>\n",
              "      <td>0</td>\n",
              "    </tr>\n",
              "  </tbody>\n",
              "</table>\n",
              "</div>"
            ],
            "text/plain": [
              "   ID City_Code  Region_Code  ... Reco_Policy_Cat Reco_Policy_Premium  Response\n",
              "0   1        C3         3213  ...              22             11628.0         0\n",
              "1   2        C5         1117  ...              22             30510.0         0\n",
              "2   3        C5         3732  ...              19              7450.0         1\n",
              "3   4       C24         4378  ...              19             17780.0         0\n",
              "4   5        C8         2190  ...              16             10404.0         0\n",
              "\n",
              "[5 rows x 14 columns]"
            ]
          },
          "metadata": {
            "tags": []
          },
          "execution_count": 39
        }
      ]
    },
    {
      "cell_type": "code",
      "metadata": {
        "id": "hq97kvqDpfhc"
      },
      "source": [
        "label_encoder = preprocessing.LabelEncoder() \r\n",
        "train['City_Code']= label_encoder.fit_transform(train['City_Code']) \r\n",
        "train['Accomodation_Type']= label_encoder.fit_transform(train['Accomodation_Type']) \r\n",
        "train['Reco_Insurance_Type']= label_encoder.fit_transform(train['Reco_Insurance_Type']) \r\n",
        "train['Is_Spouse']= label_encoder.fit_transform(train['Is_Spouse']) \r\n",
        "train['Health Indicator']= label_encoder.fit_transform(train['Health Indicator']) \r\n",
        "train['Holding_Policy_Duration']= label_encoder.fit_transform(train['Holding_Policy_Duration']) \r\n",
        "train['Response']= label_encoder.fit_transform(train['Response']) "
      ],
      "execution_count": null,
      "outputs": []
    },
    {
      "cell_type": "code",
      "metadata": {
        "colab": {
          "base_uri": "https://localhost:8080/",
          "height": 233
        },
        "id": "fH-g3YXkxGFY",
        "outputId": "f63902c1-b586-4a05-b7a8-e9e7071d4020"
      },
      "source": [
        "train.head()"
      ],
      "execution_count": null,
      "outputs": [
        {
          "output_type": "execute_result",
          "data": {
            "text/html": [
              "<div>\n",
              "<style scoped>\n",
              "    .dataframe tbody tr th:only-of-type {\n",
              "        vertical-align: middle;\n",
              "    }\n",
              "\n",
              "    .dataframe tbody tr th {\n",
              "        vertical-align: top;\n",
              "    }\n",
              "\n",
              "    .dataframe thead th {\n",
              "        text-align: right;\n",
              "    }\n",
              "</style>\n",
              "<table border=\"1\" class=\"dataframe\">\n",
              "  <thead>\n",
              "    <tr style=\"text-align: right;\">\n",
              "      <th></th>\n",
              "      <th>ID</th>\n",
              "      <th>City_Code</th>\n",
              "      <th>Region_Code</th>\n",
              "      <th>Accomodation_Type</th>\n",
              "      <th>Reco_Insurance_Type</th>\n",
              "      <th>Upper_Age</th>\n",
              "      <th>Lower_Age</th>\n",
              "      <th>Is_Spouse</th>\n",
              "      <th>Health Indicator</th>\n",
              "      <th>Holding_Policy_Duration</th>\n",
              "      <th>Holding_Policy_Type</th>\n",
              "      <th>Reco_Policy_Cat</th>\n",
              "      <th>Reco_Policy_Premium</th>\n",
              "      <th>Response</th>\n",
              "    </tr>\n",
              "  </thead>\n",
              "  <tbody>\n",
              "    <tr>\n",
              "      <th>0</th>\n",
              "      <td>1</td>\n",
              "      <td>22</td>\n",
              "      <td>3213</td>\n",
              "      <td>1</td>\n",
              "      <td>0</td>\n",
              "      <td>36</td>\n",
              "      <td>36</td>\n",
              "      <td>0</td>\n",
              "      <td>0</td>\n",
              "      <td>6</td>\n",
              "      <td>3.0</td>\n",
              "      <td>22</td>\n",
              "      <td>11628.0</td>\n",
              "      <td>0</td>\n",
              "    </tr>\n",
              "    <tr>\n",
              "      <th>1</th>\n",
              "      <td>2</td>\n",
              "      <td>31</td>\n",
              "      <td>1117</td>\n",
              "      <td>0</td>\n",
              "      <td>1</td>\n",
              "      <td>75</td>\n",
              "      <td>22</td>\n",
              "      <td>0</td>\n",
              "      <td>1</td>\n",
              "      <td>0</td>\n",
              "      <td>0.0</td>\n",
              "      <td>22</td>\n",
              "      <td>30510.0</td>\n",
              "      <td>0</td>\n",
              "    </tr>\n",
              "    <tr>\n",
              "      <th>2</th>\n",
              "      <td>3</td>\n",
              "      <td>31</td>\n",
              "      <td>3732</td>\n",
              "      <td>0</td>\n",
              "      <td>0</td>\n",
              "      <td>32</td>\n",
              "      <td>32</td>\n",
              "      <td>0</td>\n",
              "      <td>0</td>\n",
              "      <td>1</td>\n",
              "      <td>1.0</td>\n",
              "      <td>19</td>\n",
              "      <td>7450.0</td>\n",
              "      <td>1</td>\n",
              "    </tr>\n",
              "    <tr>\n",
              "      <th>3</th>\n",
              "      <td>4</td>\n",
              "      <td>16</td>\n",
              "      <td>4378</td>\n",
              "      <td>0</td>\n",
              "      <td>1</td>\n",
              "      <td>52</td>\n",
              "      <td>48</td>\n",
              "      <td>0</td>\n",
              "      <td>0</td>\n",
              "      <td>6</td>\n",
              "      <td>3.0</td>\n",
              "      <td>19</td>\n",
              "      <td>17780.0</td>\n",
              "      <td>0</td>\n",
              "    </tr>\n",
              "    <tr>\n",
              "      <th>4</th>\n",
              "      <td>5</td>\n",
              "      <td>34</td>\n",
              "      <td>2190</td>\n",
              "      <td>1</td>\n",
              "      <td>0</td>\n",
              "      <td>44</td>\n",
              "      <td>44</td>\n",
              "      <td>0</td>\n",
              "      <td>1</td>\n",
              "      <td>9</td>\n",
              "      <td>1.0</td>\n",
              "      <td>16</td>\n",
              "      <td>10404.0</td>\n",
              "      <td>0</td>\n",
              "    </tr>\n",
              "  </tbody>\n",
              "</table>\n",
              "</div>"
            ],
            "text/plain": [
              "   ID  City_Code  Region_Code  ...  Reco_Policy_Cat  Reco_Policy_Premium  Response\n",
              "0   1         22         3213  ...               22              11628.0         0\n",
              "1   2         31         1117  ...               22              30510.0         0\n",
              "2   3         31         3732  ...               19               7450.0         1\n",
              "3   4         16         4378  ...               19              17780.0         0\n",
              "4   5         34         2190  ...               16              10404.0         0\n",
              "\n",
              "[5 rows x 14 columns]"
            ]
          },
          "metadata": {
            "tags": []
          },
          "execution_count": 41
        }
      ]
    },
    {
      "cell_type": "code",
      "metadata": {
        "id": "jLvYI6fAq1PX"
      },
      "source": [
        "test['Holding_Policy_Duration'] = test['Holding_Policy_Duration'].astype(str)\r\n",
        "test['City_Code']= label_encoder.fit_transform(test['City_Code']) \r\n",
        "test['Accomodation_Type']= label_encoder.fit_transform(test['Accomodation_Type']) \r\n",
        "test['Reco_Insurance_Type']= label_encoder.fit_transform(test['Reco_Insurance_Type']) \r\n",
        "test['Is_Spouse']= label_encoder.fit_transform(test['Is_Spouse']) \r\n",
        "test['Health Indicator']= label_encoder.fit_transform(test['Health Indicator']) \r\n",
        "test['Holding_Policy_Duration']= label_encoder.fit_transform(test['Holding_Policy_Duration']) "
      ],
      "execution_count": null,
      "outputs": []
    },
    {
      "cell_type": "code",
      "metadata": {
        "colab": {
          "base_uri": "https://localhost:8080/"
        },
        "id": "CNM3cS8_rP5O",
        "outputId": "fcd68ec8-3ec6-4350-ff45-d3700e78bac9"
      },
      "source": [
        "train.info()"
      ],
      "execution_count": null,
      "outputs": [
        {
          "output_type": "stream",
          "text": [
            "<class 'pandas.core.frame.DataFrame'>\n",
            "RangeIndex: 50882 entries, 0 to 50881\n",
            "Data columns (total 14 columns):\n",
            " #   Column                   Non-Null Count  Dtype  \n",
            "---  ------                   --------------  -----  \n",
            " 0   ID                       50882 non-null  int64  \n",
            " 1   City_Code                50882 non-null  int64  \n",
            " 2   Region_Code              50882 non-null  int64  \n",
            " 3   Accomodation_Type        50882 non-null  int64  \n",
            " 4   Reco_Insurance_Type      50882 non-null  int64  \n",
            " 5   Upper_Age                50882 non-null  int64  \n",
            " 6   Lower_Age                50882 non-null  int64  \n",
            " 7   Is_Spouse                50882 non-null  int64  \n",
            " 8   Health Indicator         50882 non-null  int64  \n",
            " 9   Holding_Policy_Duration  50882 non-null  int64  \n",
            " 10  Holding_Policy_Type      50882 non-null  float64\n",
            " 11  Reco_Policy_Cat          50882 non-null  int64  \n",
            " 12  Reco_Policy_Premium      50882 non-null  float64\n",
            " 13  Response                 50882 non-null  int64  \n",
            "dtypes: float64(2), int64(12)\n",
            "memory usage: 5.4 MB\n"
          ],
          "name": "stdout"
        }
      ]
    },
    {
      "cell_type": "code",
      "metadata": {
        "colab": {
          "base_uri": "https://localhost:8080/"
        },
        "id": "VOLuUjndrRx3",
        "outputId": "861ff9a2-0f37-48ae-8252-d5156d461bbb"
      },
      "source": [
        "test.info()"
      ],
      "execution_count": null,
      "outputs": [
        {
          "output_type": "stream",
          "text": [
            "<class 'pandas.core.frame.DataFrame'>\n",
            "RangeIndex: 21805 entries, 0 to 21804\n",
            "Data columns (total 13 columns):\n",
            " #   Column                   Non-Null Count  Dtype  \n",
            "---  ------                   --------------  -----  \n",
            " 0   ID                       21805 non-null  int64  \n",
            " 1   City_Code                21805 non-null  int64  \n",
            " 2   Region_Code              21805 non-null  int64  \n",
            " 3   Accomodation_Type        21805 non-null  int64  \n",
            " 4   Reco_Insurance_Type      21805 non-null  int64  \n",
            " 5   Upper_Age                21805 non-null  int64  \n",
            " 6   Lower_Age                21805 non-null  int64  \n",
            " 7   Is_Spouse                21805 non-null  int64  \n",
            " 8   Health Indicator         21805 non-null  int64  \n",
            " 9   Holding_Policy_Duration  21805 non-null  int64  \n",
            " 10  Holding_Policy_Type      21805 non-null  float64\n",
            " 11  Reco_Policy_Cat          21805 non-null  int64  \n",
            " 12  Reco_Policy_Premium      21805 non-null  float64\n",
            "dtypes: float64(2), int64(11)\n",
            "memory usage: 2.2 MB\n"
          ],
          "name": "stdout"
        }
      ]
    },
    {
      "cell_type": "markdown",
      "metadata": {
        "id": "2ni6OQ1s3pWT"
      },
      "source": [
        "## Sampling "
      ]
    },
    {
      "cell_type": "code",
      "metadata": {
        "id": "7lWMxKS-z2EM"
      },
      "source": [
        "x = train.drop(['ID','Health Indicator','Response'],axis = 1)\r\n",
        "y = train['Response']\r\n",
        "test = test.drop(['ID','Health Indicator'],axis = 1)"
      ],
      "execution_count": null,
      "outputs": []
    },
    {
      "cell_type": "markdown",
      "metadata": {
        "id": "EeWep5qY4Foy"
      },
      "source": [
        "Under Sampling"
      ]
    },
    {
      "cell_type": "code",
      "metadata": {
        "id": "C185qMic3tU8",
        "colab": {
          "base_uri": "https://localhost:8080/"
        },
        "outputId": "08ce8fac-acea-47f6-8e7d-32f1720c7486"
      },
      "source": [
        "from imblearn.under_sampling import RandomUnderSampler\r\n",
        "rus = RandomUnderSampler(random_state=42, replacement=True)\r\n",
        "x_rus, y_rus = rus.fit_resample(x, y)\r\n",
        "\r\n",
        "print('original dataset shape:', x_rus.shape)\r\n",
        "print('Resample dataset shape', x.shape)"
      ],
      "execution_count": null,
      "outputs": [
        {
          "output_type": "stream",
          "text": [
            "original dataset shape: (24418, 12)\n",
            "Resample dataset shape (50882, 12)\n"
          ],
          "name": "stdout"
        },
        {
          "output_type": "stream",
          "text": [
            "/usr/local/lib/python3.7/dist-packages/sklearn/externals/six.py:31: FutureWarning: The module is deprecated in version 0.21 and will be removed in version 0.23 since we've dropped support for Python 2.7. Please rely on the official version of six (https://pypi.org/project/six/).\n",
            "  \"(https://pypi.org/project/six/).\", FutureWarning)\n",
            "/usr/local/lib/python3.7/dist-packages/sklearn/utils/deprecation.py:144: FutureWarning: The sklearn.neighbors.base module is  deprecated in version 0.22 and will be removed in version 0.24. The corresponding classes / functions should instead be imported from sklearn.neighbors. Anything that cannot be imported from sklearn.neighbors is now part of the private API.\n",
            "  warnings.warn(message, FutureWarning)\n",
            "/usr/local/lib/python3.7/dist-packages/sklearn/utils/deprecation.py:87: FutureWarning: Function safe_indexing is deprecated; safe_indexing is deprecated in version 0.22 and will be removed in version 0.24.\n",
            "  warnings.warn(msg, category=FutureWarning)\n"
          ],
          "name": "stderr"
        }
      ]
    },
    {
      "cell_type": "markdown",
      "metadata": {
        "id": "kZe8jF027SeQ"
      },
      "source": [
        "Random Over Sampling ( Reduced RF Accuracy )"
      ]
    },
    {
      "cell_type": "code",
      "metadata": {
        "id": "U-zC-NI_7Rv5"
      },
      "source": [
        "# from imblearn.over_sampling import RandomOverSampler\r\n",
        "\r\n",
        "# ros = RandomOverSampler(random_state=42)\r\n",
        "# x_ros, y_ros = ros.fit_resample(x, y)\r\n",
        "# print('original dataset shape:', x_ros.shape)\r\n",
        "# print('Resample dataset shape', x.shape)"
      ],
      "execution_count": null,
      "outputs": []
    },
    {
      "cell_type": "markdown",
      "metadata": {
        "id": "V5WDCsxX3q2K"
      },
      "source": [
        "## Testing models "
      ]
    },
    {
      "cell_type": "code",
      "metadata": {
        "id": "QvszI_UN4TO7"
      },
      "source": [
        "x,y = x_rus,y_rus"
      ],
      "execution_count": null,
      "outputs": []
    },
    {
      "cell_type": "code",
      "metadata": {
        "id": "1pin70G7HZda"
      },
      "source": [
        "from sklearn.model_selection import train_test_split\r\n",
        "from sklearn.metrics import accuracy_score,confusion_matrix,classification_report,f1_score\r\n",
        "from sklearn.metrics import roc_auc_score\r\n",
        "from sklearn.naive_bayes import MultinomialNB\r\n",
        "from sklearn.svm import LinearSVC\r\n",
        "from sklearn.ensemble import RandomForestClassifier\r\n",
        "import lightgbm as lgb \r\n",
        "import xgboost as xgb\r\n",
        "from collections import Counter\r\n",
        "from sklearn.datasets import make_classification\r\n",
        "from sklearn.ensemble import GradientBoostingClassifier\r\n",
        "from sklearn.model_selection import cross_val_score\r\n",
        "from sklearn.model_selection import RepeatedStratifiedKFold"
      ],
      "execution_count": null,
      "outputs": []
    },
    {
      "cell_type": "code",
      "metadata": {
        "colab": {
          "base_uri": "https://localhost:8080/"
        },
        "id": "f7uc0_mQY0dB",
        "outputId": "124d1c4d-c8d8-47ea-cf56-901c4c09986a"
      },
      "source": [
        "x_train, x_test, y_train, y_test = train_test_split(x, y, shuffle = True, test_size = 0.2)\r\n",
        "print(x_train.shape, x_test.shape)\r\n",
        "print(y_train.shape, y_test.shape)\r\n",
        "print(x.shape)"
      ],
      "execution_count": null,
      "outputs": [
        {
          "output_type": "stream",
          "text": [
            "(19534, 12) (4884, 12)\n",
            "(19534,) (4884,)\n",
            "(50882, 14)\n"
          ],
          "name": "stdout"
        }
      ]
    },
    {
      "cell_type": "code",
      "metadata": {
        "id": "uIMh9hKfF9OU",
        "colab": {
          "base_uri": "https://localhost:8080/"
        },
        "outputId": "00482c78-38b0-4b97-adee-1df9700eca65"
      },
      "source": [
        "print('Multinomial Naive Bayes')\r\n",
        "ab = MultinomialNB()\r\n",
        "ab.fit(x_train,y_train)\r\n",
        "yprednb = ab.predict(x_test)\r\n",
        "print(roc_auc_score(y_test,yprednb),'\\n')\r\n",
        "\r\n",
        "print('Linear Support Vector Classification')\r\n",
        "svc = LinearSVC().fit(x_train,y_train)\r\n",
        "y_predsvc = svc.predict(x_test)\r\n",
        "print(roc_auc_score(y_test,y_predsvc),'\\n')\r\n",
        "\r\n",
        "print('Random Forest Classifier')\r\n",
        "clf=RandomForestClassifier()\r\n",
        "clf.fit(x_train,y_train)\r\n",
        "y_predrf=clf.predict(x_test)\r\n",
        "print(roc_auc_score(y_test,y_predrf),'\\n')\r\n",
        "\r\n",
        "print('Gradient Boosting Classifier')\r\n",
        "model = GradientBoostingClassifier()\r\n",
        "model.fit(x_train, y_train)\r\n",
        "ypredgbc = model.predict(x_test)\r\n",
        "print(roc_auc_score(y_test,ypredgbc),'\\n')\r\n",
        "\r\n",
        "from xgboost import XGBClassifier\r\n",
        "print('XGB Classifier')\r\n",
        "model = XGBClassifier()\r\n",
        "model.fit(x_train, y_train)\r\n",
        "ypredxgb = model.predict(x_test)\r\n",
        "print(roc_auc_score(y_test,ypredxgb),'\\n')\r\n",
        "\r\n",
        "from lightgbm import LGBMClassifier\r\n",
        "print('LGBM Classifier')\r\n",
        "model = LGBMClassifier()\r\n",
        "model.fit(x_train, y_train)\r\n",
        "ypredlgbm = model.predict(x_test)\r\n",
        "print(roc_auc_score(y_test,ypredlgbm),'\\n')"
      ],
      "execution_count": null,
      "outputs": [
        {
          "output_type": "stream",
          "text": [
            "Multinomial Naive Bayes\n",
            "0.4859085607631479 \n",
            "\n",
            "Linear Support Vector Classification\n"
          ],
          "name": "stdout"
        },
        {
          "output_type": "stream",
          "text": [
            "/usr/local/lib/python3.7/dist-packages/sklearn/svm/_base.py:947: ConvergenceWarning: Liblinear failed to converge, increase the number of iterations.\n",
            "  \"the number of iterations.\", ConvergenceWarning)\n"
          ],
          "name": "stderr"
        },
        {
          "output_type": "stream",
          "text": [
            "0.5 \n",
            "\n",
            "Random Forest Classifier\n",
            "0.6194521561008821 \n",
            "\n",
            "Gradient Boosting Classifier\n",
            "0.5787478859906476 \n",
            "\n",
            "XGB Classifier\n",
            "0.5722807152876939 \n",
            "\n",
            "LGBM Classifier\n",
            "0.6163523077813151 \n",
            "\n"
          ],
          "name": "stdout"
        }
      ]
    },
    {
      "cell_type": "code",
      "metadata": {
        "id": "Ttx_wF70-aiv"
      },
      "source": [
        "y_predrf=clf.predict(test)"
      ],
      "execution_count": null,
      "outputs": []
    },
    {
      "cell_type": "markdown",
      "metadata": {
        "id": "s33XnPGIVhQp"
      },
      "source": [
        "## Neural Network"
      ]
    },
    {
      "cell_type": "code",
      "metadata": {
        "id": "0Z8uPDB71V0k"
      },
      "source": [
        "from keras import models\r\n",
        "from keras import layers\r\n",
        "nn=models.Sequential()"
      ],
      "execution_count": null,
      "outputs": []
    },
    {
      "cell_type": "code",
      "metadata": {
        "id": "uhbFlLvV1fvM"
      },
      "source": [
        "nn.add(layers.Dense(1024,activation = \"relu\",input_shape=(12,))) \r\n",
        "nn.add(layers.Dense(512,activation='relu'))\r\n",
        "nn.add(layers.Dense(256,activation='relu'))\r\n",
        "nn.add(layers.Dense(128,activation='relu'))\r\n",
        "nn.add(layers.Dense(1,activation='sigmoid'))\r\n",
        "nn.summary()"
      ],
      "execution_count": null,
      "outputs": []
    },
    {
      "cell_type": "code",
      "metadata": {
        "id": "Lhro_LRd1lUx"
      },
      "source": [
        "nn.compile(optimizer='rmsprop',\r\n",
        "           loss='binary_crossentropy',\r\n",
        "           metrics=['accuracy'])"
      ],
      "execution_count": null,
      "outputs": []
    },
    {
      "cell_type": "code",
      "metadata": {
        "id": "vO4PpG5o1ubK"
      },
      "source": [
        "nn.fit(x_train,y_train,epochs=100,batch_size=100)"
      ],
      "execution_count": null,
      "outputs": []
    },
    {
      "cell_type": "code",
      "metadata": {
        "id": "vb5wUbBI15Wq"
      },
      "source": [
        "y_prednn = nn.predict(x_test)\r\n",
        "print(roc_auc_score(y_test,y_prednn))"
      ],
      "execution_count": null,
      "outputs": []
    }
  ]
}